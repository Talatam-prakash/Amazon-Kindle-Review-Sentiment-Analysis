{
  "cells": [
    {
      "cell_type": "markdown",
      "id": "a6251be6",
      "metadata": {
        "id": "a6251be6"
      },
      "source": [
        "## Amazon Kindle Book Review for Sentiment Analysis\n",
        "### Context\n",
        "This is a small subset of dataset of Book reviews from Amazon Kindle Store category.\n",
        "\n",
        "### Content\n",
        "\n",
        "- 5-core dataset of product reviews from Amazon Kindle Store category from May 1996 - July 2014. Contains total of 982619 entries. Each reviewer has at least 5 reviews and each product has at least 5 reviews in this dataset.\n",
        "\n",
        "### Columns/Features\n",
        "\n",
        "- asin           - ID of the product, like B000FA64PK\n",
        "- helpful        - helpfulness rating of the review - example: 2/3.\n",
        "- overall        - rating of the product.\n",
        "- reviewText     - text of the review (heading).\n",
        "- reviewTime     - time of the review (raw).\n",
        "- reviewerID     - ID of the reviewer, like A3SPTOKDG7WBLN\n",
        "- reviewerName   - name of the reviewer.\n",
        "- summary        - summary of the review (description).\n",
        "- unixReviewTime - unix timestamp."
      ]
    },
    {
      "cell_type": "markdown",
      "id": "97da070f",
      "metadata": {
        "id": "97da070f"
      },
      "source": [
        "### Import Libraries"
      ]
    },
    {
      "cell_type": "code",
      "execution_count": null,
      "id": "e9da568f",
      "metadata": {
        "id": "e9da568f"
      },
      "outputs": [],
      "source": [
        "import pandas as pd\n",
        "import numpy as np\n",
        "from nltk.corpus import stopwords\n",
        "from nltk.stem import WordNetLemmatizer\n",
        "from nltk.tokenize import sent_tokenize, word_tokenize\n",
        "import re\n",
        "import nltk\n",
        "from bs4 import BeautifulSoup"
      ]
    },
    {
      "cell_type": "code",
      "execution_count": null,
      "id": "06610ae6",
      "metadata": {
        "id": "06610ae6"
      },
      "outputs": [],
      "source": [
        "import warnings\n",
        "warnings.filterwarnings(\"ignore\")"
      ]
    },
    {
      "cell_type": "code",
      "execution_count": null,
      "id": "1aa68e77",
      "metadata": {
        "id": "1aa68e77",
        "outputId": "51610e18-91b6-44e8-ab98-d09381ae0a94"
      },
      "outputs": [
        {
          "name": "stdout",
          "output_type": "stream",
          "text": [
            "showing info https://raw.githubusercontent.com/nltk/nltk_data/gh-pages/index.xml\n"
          ]
        },
        {
          "name": "stderr",
          "output_type": "stream",
          "text": [
            "invalid command name \"136637749483456set\"\n",
            "    while executing\n",
            "\"136637749483456set\"\n",
            "    (\"after\" script)\n",
            "invalid command name \"136637749482560set\"\n",
            "    while executing\n",
            "\"136637749482560set\"\n",
            "    (\"after\" script)\n",
            "invalid command name \"136636905530816set\"\n",
            "    while executing\n",
            "\"136636905530816set\"\n",
            "    (\"after\" script)\n",
            "invalid command name \"136636905529088set\"\n",
            "    while executing\n",
            "\"136636905529088set\"\n",
            "    (\"after\" script)\n",
            "invalid command name \"136636905532928set\"\n",
            "    while executing\n",
            "\"136636905532928set\"\n",
            "    (\"after\" script)\n",
            "invalid command name \"136637749482752set\"\n",
            "    while executing\n",
            "\"136637749482752set\"\n",
            "    (\"after\" script)\n",
            "invalid command name \"136636905534400set\"\n",
            "    while executing\n",
            "\"136636905534400set\"\n",
            "    (\"after\" script)\n",
            "invalid command name \"136637749480192set\"\n",
            "    while executing\n",
            "\"136637749480192set\"\n",
            "    (\"after\" script)\n",
            "invalid command name \"136636905535424set\"\n",
            "    while executing\n",
            "\"136636905535424set\"\n",
            "    (\"after\" script)\n",
            "invalid command name \"136636905536576set\"\n",
            "    while executing\n",
            "\"136636905536576set\"\n",
            "    (\"after\" script)\n",
            "invalid command name \"136636905535488set\"\n",
            "    while executing\n",
            "\"136636905535488set\"\n",
            "    (\"after\" script)\n",
            "invalid command name \"136636905930368set\"\n",
            "    while executing\n",
            "\"136636905930368set\"\n",
            "    (\"after\" script)\n",
            "invalid command name \"136636905530944set\"\n",
            "    while executing\n",
            "\"136636905530944set\"\n",
            "    (\"after\" script)\n",
            "invalid command name \"136636905928128set\"\n",
            "    while executing\n",
            "\"136636905928128set\"\n",
            "    (\"after\" script)\n",
            "invalid command name \"136636905529856set\"\n",
            "    while executing\n",
            "\"136636905529856set\"\n",
            "    (\"after\" script)\n",
            "invalid command name \"136636905915328set\"\n",
            "    while executing\n",
            "\"136636905915328set\"\n",
            "    (\"after\" script)\n",
            "invalid command name \"136636905535168set\"\n",
            "    while executing\n",
            "\"136636905535168set\"\n",
            "    (\"after\" script)\n",
            "invalid command name \"136636905916544set\"\n",
            "    while executing\n",
            "\"136636905916544set\"\n",
            "    (\"after\" script)\n",
            "invalid command name \"136636905533824set\"\n",
            "    while executing\n",
            "\"136636905533824set\"\n",
            "    (\"after\" script)\n",
            "invalid command name \"136636905930432set\"\n",
            "    while executing\n",
            "\"136636905930432set\"\n",
            "    (\"after\" script)\n",
            "invalid command name \"136636905925312set\"\n",
            "    while executing\n",
            "\"136636905925312set\"\n",
            "    (\"after\" script)\n",
            "invalid command name \"136636905930496set\"\n",
            "    while executing\n",
            "\"136636905930496set\"\n",
            "    (\"after\" script)\n",
            "invalid command name \"136636905929920set\"\n",
            "    while executing\n",
            "\"136636905929920set\"\n",
            "    (\"after\" script)\n",
            "invalid command name \"136636905918016set\"\n",
            "    while executing\n",
            "\"136636905918016set\"\n",
            "    (\"after\" script)\n",
            "invalid command name \"136636905917824set\"\n",
            "    while executing\n",
            "\"136636905917824set\"\n",
            "    (\"after\" script)\n",
            "invalid command name \"136636905915584set\"\n",
            "    while executing\n",
            "\"136636905915584set\"\n",
            "    (\"after\" script)\n",
            "invalid command name \"136636905924032set\"\n",
            "    while executing\n",
            "\"136636905924032set\"\n",
            "    (\"after\" script)\n",
            "invalid command name \"136636905917056set\"\n",
            "    while executing\n",
            "\"136636905917056set\"\n",
            "    (\"after\" script)\n",
            "invalid command name \"136636905916352set\"\n",
            "    while executing\n",
            "\"136636905916352set\"\n",
            "    (\"after\" script)\n",
            "invalid command name \"136636905923520set\"\n",
            "    while executing\n",
            "\"136636905923520set\"\n",
            "    (\"after\" script)\n"
          ]
        },
        {
          "data": {
            "text/plain": [
              "True"
            ]
          },
          "execution_count": 3,
          "metadata": {},
          "output_type": "execute_result"
        }
      ],
      "source": [
        "import nltk\n",
        "import ssl\n",
        "\n",
        "try:\n",
        "    _create_unverified_https_context = ssl._create_unverified_context\n",
        "except AttributeError:\n",
        "    pass\n",
        "else:\n",
        "    ssl._create_default_https_context = _create_unverified_https_context\n",
        "\n",
        "nltk.download()"
      ]
    },
    {
      "cell_type": "code",
      "execution_count": null,
      "id": "4da5b22e",
      "metadata": {
        "colab": {
          "base_uri": "https://localhost:8080/"
        },
        "id": "4da5b22e",
        "outputId": "e2c174da-f441-40ac-fd7b-08d5112f9e7d"
      },
      "outputs": [
        {
          "name": "stderr",
          "output_type": "stream",
          "text": [
            "[nltk_data] Downloading package stopwords to /root/nltk_data...\n",
            "[nltk_data]   Unzipping corpora/stopwords.zip.\n",
            "[nltk_data] Downloading package punkt to /root/nltk_data...\n",
            "[nltk_data]   Unzipping tokenizers/punkt.zip.\n"
          ]
        },
        {
          "data": {
            "text/plain": [
              "True"
            ]
          },
          "execution_count": 7,
          "metadata": {},
          "output_type": "execute_result"
        }
      ],
      "source": [
        "nltk.download(\"stopwords\")\n",
        "nltk.download(\"punkt\")"
      ]
    },
    {
      "cell_type": "code",
      "execution_count": null,
      "id": "b9f97a9c",
      "metadata": {
        "id": "b9f97a9c"
      },
      "outputs": [],
      "source": [
        "df=pd.read_csv(\"all_kindle_review .csv\")"
      ]
    },
    {
      "cell_type": "code",
      "execution_count": null,
      "id": "b0393b0c",
      "metadata": {
        "id": "b0393b0c",
        "outputId": "0b4aa89b-b428-4838-c986-4b851ace0218"
      },
      "outputs": [
        {
          "data": {
            "text/html": [
              "<div>\n",
              "<style scoped>\n",
              "    .dataframe tbody tr th:only-of-type {\n",
              "        vertical-align: middle;\n",
              "    }\n",
              "\n",
              "    .dataframe tbody tr th {\n",
              "        vertical-align: top;\n",
              "    }\n",
              "\n",
              "    .dataframe thead th {\n",
              "        text-align: right;\n",
              "    }\n",
              "</style>\n",
              "<table border=\"1\" class=\"dataframe\">\n",
              "  <thead>\n",
              "    <tr style=\"text-align: right;\">\n",
              "      <th></th>\n",
              "      <th>Unnamed: 0.1</th>\n",
              "      <th>Unnamed: 0</th>\n",
              "      <th>asin</th>\n",
              "      <th>helpful</th>\n",
              "      <th>rating</th>\n",
              "      <th>reviewText</th>\n",
              "      <th>reviewTime</th>\n",
              "      <th>reviewerID</th>\n",
              "      <th>reviewerName</th>\n",
              "      <th>summary</th>\n",
              "      <th>unixReviewTime</th>\n",
              "    </tr>\n",
              "  </thead>\n",
              "  <tbody>\n",
              "    <tr>\n",
              "      <th>0</th>\n",
              "      <td>0</td>\n",
              "      <td>11539</td>\n",
              "      <td>B0033UV8HI</td>\n",
              "      <td>[8, 10]</td>\n",
              "      <td>3</td>\n",
              "      <td>Jace Rankin may be short, but he's nothing to ...</td>\n",
              "      <td>09 2, 2010</td>\n",
              "      <td>A3HHXRELK8BHQG</td>\n",
              "      <td>Ridley</td>\n",
              "      <td>Entertaining But Average</td>\n",
              "      <td>1283385600</td>\n",
              "    </tr>\n",
              "    <tr>\n",
              "      <th>1</th>\n",
              "      <td>1</td>\n",
              "      <td>5957</td>\n",
              "      <td>B002HJV4DE</td>\n",
              "      <td>[1, 1]</td>\n",
              "      <td>5</td>\n",
              "      <td>Great short read.  I didn't want to put it dow...</td>\n",
              "      <td>10 8, 2013</td>\n",
              "      <td>A2RGNZ0TRF578I</td>\n",
              "      <td>Holly Butler</td>\n",
              "      <td>Terrific menage scenes!</td>\n",
              "      <td>1381190400</td>\n",
              "    </tr>\n",
              "    <tr>\n",
              "      <th>2</th>\n",
              "      <td>2</td>\n",
              "      <td>9146</td>\n",
              "      <td>B002ZG96I4</td>\n",
              "      <td>[0, 0]</td>\n",
              "      <td>3</td>\n",
              "      <td>I'll start by saying this is the first of four...</td>\n",
              "      <td>04 11, 2014</td>\n",
              "      <td>A3S0H2HV6U1I7F</td>\n",
              "      <td>Merissa</td>\n",
              "      <td>Snapdragon Alley</td>\n",
              "      <td>1397174400</td>\n",
              "    </tr>\n",
              "    <tr>\n",
              "      <th>3</th>\n",
              "      <td>3</td>\n",
              "      <td>7038</td>\n",
              "      <td>B002QHWOEU</td>\n",
              "      <td>[1, 3]</td>\n",
              "      <td>3</td>\n",
              "      <td>Aggie is Angela Lansbury who carries pocketboo...</td>\n",
              "      <td>07 5, 2014</td>\n",
              "      <td>AC4OQW3GZ919J</td>\n",
              "      <td>Cleargrace</td>\n",
              "      <td>very light murder cozy</td>\n",
              "      <td>1404518400</td>\n",
              "    </tr>\n",
              "    <tr>\n",
              "      <th>4</th>\n",
              "      <td>4</td>\n",
              "      <td>1776</td>\n",
              "      <td>B001A06VJ8</td>\n",
              "      <td>[0, 1]</td>\n",
              "      <td>4</td>\n",
              "      <td>I did not expect this type of book to be in li...</td>\n",
              "      <td>12 31, 2012</td>\n",
              "      <td>A3C9V987IQHOQD</td>\n",
              "      <td>Rjostler</td>\n",
              "      <td>Book</td>\n",
              "      <td>1356912000</td>\n",
              "    </tr>\n",
              "  </tbody>\n",
              "</table>\n",
              "</div>"
            ],
            "text/plain": [
              "   Unnamed: 0.1  Unnamed: 0        asin  helpful  rating   \n",
              "0             0       11539  B0033UV8HI  [8, 10]       3  \\\n",
              "1             1        5957  B002HJV4DE   [1, 1]       5   \n",
              "2             2        9146  B002ZG96I4   [0, 0]       3   \n",
              "3             3        7038  B002QHWOEU   [1, 3]       3   \n",
              "4             4        1776  B001A06VJ8   [0, 1]       4   \n",
              "\n",
              "                                          reviewText   reviewTime   \n",
              "0  Jace Rankin may be short, but he's nothing to ...   09 2, 2010  \\\n",
              "1  Great short read.  I didn't want to put it dow...   10 8, 2013   \n",
              "2  I'll start by saying this is the first of four...  04 11, 2014   \n",
              "3  Aggie is Angela Lansbury who carries pocketboo...   07 5, 2014   \n",
              "4  I did not expect this type of book to be in li...  12 31, 2012   \n",
              "\n",
              "       reviewerID  reviewerName                   summary  unixReviewTime  \n",
              "0  A3HHXRELK8BHQG        Ridley  Entertaining But Average      1283385600  \n",
              "1  A2RGNZ0TRF578I  Holly Butler   Terrific menage scenes!      1381190400  \n",
              "2  A3S0H2HV6U1I7F       Merissa          Snapdragon Alley      1397174400  \n",
              "3   AC4OQW3GZ919J    Cleargrace    very light murder cozy      1404518400  \n",
              "4  A3C9V987IQHOQD      Rjostler                      Book      1356912000  "
            ]
          },
          "execution_count": 37,
          "metadata": {},
          "output_type": "execute_result"
        }
      ],
      "source": [
        "df.head()"
      ]
    },
    {
      "cell_type": "markdown",
      "id": "a24e5e33",
      "metadata": {
        "id": "a24e5e33"
      },
      "source": [
        "#### Aim of the project is to sentiment Analysis, so we need the text and rating only."
      ]
    },
    {
      "cell_type": "code",
      "execution_count": null,
      "id": "fe335f4c",
      "metadata": {
        "id": "fe335f4c"
      },
      "outputs": [],
      "source": [
        "df=df[['reviewText',\"rating\"]]"
      ]
    },
    {
      "cell_type": "code",
      "execution_count": null,
      "id": "df7b2cb4",
      "metadata": {
        "id": "df7b2cb4",
        "outputId": "ff5fe024-f935-42ba-d7d6-0ac4507b9de5"
      },
      "outputs": [
        {
          "data": {
            "text/html": [
              "<div>\n",
              "<style scoped>\n",
              "    .dataframe tbody tr th:only-of-type {\n",
              "        vertical-align: middle;\n",
              "    }\n",
              "\n",
              "    .dataframe tbody tr th {\n",
              "        vertical-align: top;\n",
              "    }\n",
              "\n",
              "    .dataframe thead th {\n",
              "        text-align: right;\n",
              "    }\n",
              "</style>\n",
              "<table border=\"1\" class=\"dataframe\">\n",
              "  <thead>\n",
              "    <tr style=\"text-align: right;\">\n",
              "      <th></th>\n",
              "      <th>reviewText</th>\n",
              "      <th>rating</th>\n",
              "    </tr>\n",
              "  </thead>\n",
              "  <tbody>\n",
              "    <tr>\n",
              "      <th>0</th>\n",
              "      <td>Jace Rankin may be short, but he's nothing to ...</td>\n",
              "      <td>3</td>\n",
              "    </tr>\n",
              "    <tr>\n",
              "      <th>1</th>\n",
              "      <td>Great short read.  I didn't want to put it dow...</td>\n",
              "      <td>5</td>\n",
              "    </tr>\n",
              "    <tr>\n",
              "      <th>2</th>\n",
              "      <td>I'll start by saying this is the first of four...</td>\n",
              "      <td>3</td>\n",
              "    </tr>\n",
              "    <tr>\n",
              "      <th>3</th>\n",
              "      <td>Aggie is Angela Lansbury who carries pocketboo...</td>\n",
              "      <td>3</td>\n",
              "    </tr>\n",
              "    <tr>\n",
              "      <th>4</th>\n",
              "      <td>I did not expect this type of book to be in li...</td>\n",
              "      <td>4</td>\n",
              "    </tr>\n",
              "  </tbody>\n",
              "</table>\n",
              "</div>"
            ],
            "text/plain": [
              "                                          reviewText  rating\n",
              "0  Jace Rankin may be short, but he's nothing to ...       3\n",
              "1  Great short read.  I didn't want to put it dow...       5\n",
              "2  I'll start by saying this is the first of four...       3\n",
              "3  Aggie is Angela Lansbury who carries pocketboo...       3\n",
              "4  I did not expect this type of book to be in li...       4"
            ]
          },
          "execution_count": 39,
          "metadata": {},
          "output_type": "execute_result"
        }
      ],
      "source": [
        "df.head()"
      ]
    },
    {
      "cell_type": "code",
      "execution_count": null,
      "id": "e6116654",
      "metadata": {
        "id": "e6116654",
        "outputId": "b2c0952e-49a5-4dd6-873e-cd69c6b891b0"
      },
      "outputs": [
        {
          "data": {
            "text/plain": [
              "(12000, 2)"
            ]
          },
          "execution_count": 40,
          "metadata": {},
          "output_type": "execute_result"
        }
      ],
      "source": [
        "df.shape"
      ]
    },
    {
      "cell_type": "markdown",
      "id": "28b1ee9e",
      "metadata": {
        "id": "28b1ee9e"
      },
      "source": [
        "- Total 12,000 reviews in the dataset."
      ]
    },
    {
      "cell_type": "code",
      "execution_count": null,
      "id": "b3c664c7",
      "metadata": {
        "id": "b3c664c7",
        "outputId": "edb574f0-0ffc-4675-d8f8-f6ddae176527"
      },
      "outputs": [
        {
          "data": {
            "text/html": [
              "<div>\n",
              "<style scoped>\n",
              "    .dataframe tbody tr th:only-of-type {\n",
              "        vertical-align: middle;\n",
              "    }\n",
              "\n",
              "    .dataframe tbody tr th {\n",
              "        vertical-align: top;\n",
              "    }\n",
              "\n",
              "    .dataframe thead th {\n",
              "        text-align: right;\n",
              "    }\n",
              "</style>\n",
              "<table border=\"1\" class=\"dataframe\">\n",
              "  <thead>\n",
              "    <tr style=\"text-align: right;\">\n",
              "      <th></th>\n",
              "      <th>rating</th>\n",
              "    </tr>\n",
              "  </thead>\n",
              "  <tbody>\n",
              "    <tr>\n",
              "      <th>count</th>\n",
              "      <td>12000.000000</td>\n",
              "    </tr>\n",
              "    <tr>\n",
              "      <th>mean</th>\n",
              "      <td>3.250000</td>\n",
              "    </tr>\n",
              "    <tr>\n",
              "      <th>std</th>\n",
              "      <td>1.421619</td>\n",
              "    </tr>\n",
              "    <tr>\n",
              "      <th>min</th>\n",
              "      <td>1.000000</td>\n",
              "    </tr>\n",
              "    <tr>\n",
              "      <th>25%</th>\n",
              "      <td>2.000000</td>\n",
              "    </tr>\n",
              "    <tr>\n",
              "      <th>50%</th>\n",
              "      <td>3.500000</td>\n",
              "    </tr>\n",
              "    <tr>\n",
              "      <th>75%</th>\n",
              "      <td>4.250000</td>\n",
              "    </tr>\n",
              "    <tr>\n",
              "      <th>max</th>\n",
              "      <td>5.000000</td>\n",
              "    </tr>\n",
              "  </tbody>\n",
              "</table>\n",
              "</div>"
            ],
            "text/plain": [
              "             rating\n",
              "count  12000.000000\n",
              "mean       3.250000\n",
              "std        1.421619\n",
              "min        1.000000\n",
              "25%        2.000000\n",
              "50%        3.500000\n",
              "75%        4.250000\n",
              "max        5.000000"
            ]
          },
          "execution_count": 41,
          "metadata": {},
          "output_type": "execute_result"
        }
      ],
      "source": [
        "df.describe()"
      ]
    },
    {
      "cell_type": "code",
      "execution_count": null,
      "id": "9c070ded",
      "metadata": {
        "id": "9c070ded",
        "outputId": "3a3e4f3e-a723-471c-f6ca-7316c6e57be0"
      },
      "outputs": [
        {
          "name": "stdout",
          "output_type": "stream",
          "text": [
            "<class 'pandas.core.frame.DataFrame'>\n",
            "RangeIndex: 12000 entries, 0 to 11999\n",
            "Data columns (total 2 columns):\n",
            " #   Column      Non-Null Count  Dtype \n",
            "---  ------      --------------  ----- \n",
            " 0   reviewText  12000 non-null  object\n",
            " 1   rating      12000 non-null  int64 \n",
            "dtypes: int64(1), object(1)\n",
            "memory usage: 187.6+ KB\n"
          ]
        }
      ],
      "source": [
        "df.info()"
      ]
    },
    {
      "cell_type": "code",
      "execution_count": null,
      "id": "72ae27b5",
      "metadata": {
        "id": "72ae27b5",
        "outputId": "6c12f9df-8014-4370-ba51-393f1baea61c"
      },
      "outputs": [
        {
          "data": {
            "text/plain": [
              "rating\n",
              "5    3000\n",
              "4    3000\n",
              "3    2000\n",
              "2    2000\n",
              "1    2000\n",
              "Name: count, dtype: int64"
            ]
          },
          "execution_count": 44,
          "metadata": {},
          "output_type": "execute_result"
        }
      ],
      "source": [
        "df['rating'].value_counts()"
      ]
    },
    {
      "cell_type": "markdown",
      "id": "74a4b009",
      "metadata": {
        "id": "74a4b009"
      },
      "source": [
        "#### There are 5 different rating the dataset, we convert the 5 values into 2 category (positive-1, negative-0)."
      ]
    },
    {
      "cell_type": "code",
      "execution_count": null,
      "id": "1f3a78a8",
      "metadata": {
        "id": "1f3a78a8"
      },
      "outputs": [],
      "source": [
        "df1=df[df['rating']!=3]"
      ]
    },
    {
      "cell_type": "code",
      "execution_count": null,
      "id": "faf5b2b7",
      "metadata": {
        "id": "faf5b2b7",
        "outputId": "049d14da-bfb1-4ccd-d8f4-b339dc7b4f85"
      },
      "outputs": [
        {
          "data": {
            "text/html": [
              "<div>\n",
              "<style scoped>\n",
              "    .dataframe tbody tr th:only-of-type {\n",
              "        vertical-align: middle;\n",
              "    }\n",
              "\n",
              "    .dataframe tbody tr th {\n",
              "        vertical-align: top;\n",
              "    }\n",
              "\n",
              "    .dataframe thead th {\n",
              "        text-align: right;\n",
              "    }\n",
              "</style>\n",
              "<table border=\"1\" class=\"dataframe\">\n",
              "  <thead>\n",
              "    <tr style=\"text-align: right;\">\n",
              "      <th></th>\n",
              "      <th>reviewText</th>\n",
              "      <th>rating</th>\n",
              "    </tr>\n",
              "  </thead>\n",
              "  <tbody>\n",
              "    <tr>\n",
              "      <th>1</th>\n",
              "      <td>Great short read.  I didn't want to put it dow...</td>\n",
              "      <td>5</td>\n",
              "    </tr>\n",
              "    <tr>\n",
              "      <th>4</th>\n",
              "      <td>I did not expect this type of book to be in li...</td>\n",
              "      <td>4</td>\n",
              "    </tr>\n",
              "    <tr>\n",
              "      <th>5</th>\n",
              "      <td>Aislinn is a little girl with big dreams. Afte...</td>\n",
              "      <td>5</td>\n",
              "    </tr>\n",
              "    <tr>\n",
              "      <th>6</th>\n",
              "      <td>This has the makings of a good story... unfort...</td>\n",
              "      <td>2</td>\n",
              "    </tr>\n",
              "    <tr>\n",
              "      <th>7</th>\n",
              "      <td>I got this because I like collaborated short s...</td>\n",
              "      <td>4</td>\n",
              "    </tr>\n",
              "  </tbody>\n",
              "</table>\n",
              "</div>"
            ],
            "text/plain": [
              "                                          reviewText  rating\n",
              "1  Great short read.  I didn't want to put it dow...       5\n",
              "4  I did not expect this type of book to be in li...       4\n",
              "5  Aislinn is a little girl with big dreams. Afte...       5\n",
              "6  This has the makings of a good story... unfort...       2\n",
              "7  I got this because I like collaborated short s...       4"
            ]
          },
          "execution_count": 72,
          "metadata": {},
          "output_type": "execute_result"
        }
      ],
      "source": [
        "df1.head()"
      ]
    },
    {
      "cell_type": "code",
      "execution_count": null,
      "id": "b0c3df91",
      "metadata": {
        "id": "b0c3df91",
        "outputId": "6929670d-d391-452f-fa22-d9943ca0f85b"
      },
      "outputs": [
        {
          "data": {
            "text/plain": [
              "rating\n",
              "5    3000\n",
              "4    3000\n",
              "2    2000\n",
              "1    2000\n",
              "Name: count, dtype: int64"
            ]
          },
          "execution_count": 73,
          "metadata": {},
          "output_type": "execute_result"
        }
      ],
      "source": [
        "df1['rating'].value_counts()"
      ]
    },
    {
      "cell_type": "code",
      "execution_count": null,
      "id": "13b5c42b",
      "metadata": {
        "id": "13b5c42b"
      },
      "outputs": [],
      "source": [
        "df1['rating']=df1['rating'].apply(lambda x: 0 if x<3 else 1)"
      ]
    },
    {
      "cell_type": "code",
      "execution_count": null,
      "id": "8cec66c4",
      "metadata": {
        "id": "8cec66c4",
        "outputId": "cfb95c75-ccaa-4092-b304-1a1b1ef2ee9e"
      },
      "outputs": [
        {
          "data": {
            "text/plain": [
              "rating\n",
              "1    6000\n",
              "0    4000\n",
              "Name: count, dtype: int64"
            ]
          },
          "execution_count": 75,
          "metadata": {},
          "output_type": "execute_result"
        }
      ],
      "source": [
        "df1['rating'].value_counts()"
      ]
    },
    {
      "cell_type": "code",
      "execution_count": null,
      "id": "e072fa8b",
      "metadata": {
        "id": "e072fa8b",
        "outputId": "fd814ade-568c-45ef-a2e2-bd590151bbe8"
      },
      "outputs": [
        {
          "data": {
            "text/html": [
              "<div>\n",
              "<style scoped>\n",
              "    .dataframe tbody tr th:only-of-type {\n",
              "        vertical-align: middle;\n",
              "    }\n",
              "\n",
              "    .dataframe tbody tr th {\n",
              "        vertical-align: top;\n",
              "    }\n",
              "\n",
              "    .dataframe thead th {\n",
              "        text-align: right;\n",
              "    }\n",
              "</style>\n",
              "<table border=\"1\" class=\"dataframe\">\n",
              "  <thead>\n",
              "    <tr style=\"text-align: right;\">\n",
              "      <th></th>\n",
              "      <th>reviewText</th>\n",
              "      <th>rating</th>\n",
              "    </tr>\n",
              "  </thead>\n",
              "  <tbody>\n",
              "    <tr>\n",
              "      <th>1</th>\n",
              "      <td>Great short read.  I didn't want to put it dow...</td>\n",
              "      <td>1</td>\n",
              "    </tr>\n",
              "    <tr>\n",
              "      <th>4</th>\n",
              "      <td>I did not expect this type of book to be in li...</td>\n",
              "      <td>1</td>\n",
              "    </tr>\n",
              "    <tr>\n",
              "      <th>5</th>\n",
              "      <td>Aislinn is a little girl with big dreams. Afte...</td>\n",
              "      <td>1</td>\n",
              "    </tr>\n",
              "    <tr>\n",
              "      <th>6</th>\n",
              "      <td>This has the makings of a good story... unfort...</td>\n",
              "      <td>0</td>\n",
              "    </tr>\n",
              "    <tr>\n",
              "      <th>7</th>\n",
              "      <td>I got this because I like collaborated short s...</td>\n",
              "      <td>1</td>\n",
              "    </tr>\n",
              "  </tbody>\n",
              "</table>\n",
              "</div>"
            ],
            "text/plain": [
              "                                          reviewText  rating\n",
              "1  Great short read.  I didn't want to put it dow...       1\n",
              "4  I did not expect this type of book to be in li...       1\n",
              "5  Aislinn is a little girl with big dreams. Afte...       1\n",
              "6  This has the makings of a good story... unfort...       0\n",
              "7  I got this because I like collaborated short s...       1"
            ]
          },
          "execution_count": 76,
          "metadata": {},
          "output_type": "execute_result"
        }
      ],
      "source": [
        "df1.head()"
      ]
    },
    {
      "cell_type": "code",
      "execution_count": null,
      "id": "305bdc1d",
      "metadata": {
        "id": "305bdc1d",
        "outputId": "101942c3-823a-473c-f030-9193251fc434"
      },
      "outputs": [
        {
          "data": {
            "text/plain": [
              "reviewText\n",
              "Jace Rankin may be short, but he's nothing to mess with, as the man who was just hauled out of the saloon by the undertaker knows now. He's a famous bounty hunter in Oregon in the 1890s who, when he shot the man in the saloon, just finished a years long quest to avenge his sister's murder and is now trying to figure out what to do next. When the snotty-nosed farm boy he just rescued from a gang of bullies offers him money to kill a man who forced him off his ranch, he reluctantly agrees to bring the man to justice, but not to kill him outright. But, first he needs to tell his sister's widower the news.Kyla \"Kyle\" Springer Bailey has been riding the trails and sleeping on the ground for the past month while trying to find Jace. She wants revenge on the man who killed her husband and took her ranch, amongst other crimes, and she's not so keen on the detour Jace wants to take. But she realizes she's out of options, so she hides behind her boy persona as best she can and tries to keep pace. When a confrontation along the way gets her shot and Jace discovers that Kyle's a Kyla, she has to come clean about the *whole* reason she needs this scoundrel dead and hope he'll still help her.The book has its share of touching moments and slow-blooming romance. Kyla, we find out, has good reason to fear men and hide behind a boy's persona. Watching Jace slowly pull her out of that shell and help her conquer her fears was endearing. Her pain was real and deeply-rooted and didn't just disappear in the face of his sexiness. Neither did his understandable aversion to marriage magically disappear after a round of nookie. Why would a man who's drifted from town to town for his entire adult life - a man who's killed his fair share of men along the way - feel he'd make a good husband or father? They're both the walking wounded and in a unique position to help each other, they just need time to realize it.However, while it was packed to bursting with my favorite themes - Old West setting, a heroine passing as male, a morally ambiguous hero, wounded souls, road romance, the kitchen sink - there was a certain...distance in the writing that kept me from getting carried away. Both characters were distinct and fully-formed and I couldn't point to any glaring instances of bland telling or anything, I just never felt really invested. I enjoyed it quite a bit, as it was an exciting trip, but I was watching them from far away. I definitely wasn't on the run alongside them. Add on a hasty and too tidy ending, and the book left me feeling a bit less than completely satisfied.I enjoyed the book, but I can't say it was above average. I'd still read another book by the author.Note: I read the re-released ebook version and noticed there were a lot of formatting errors and missing words. I had to mentally edit as I read for some sentences to make sense. It wasn't too too bad, but it was a little distracting.    1\n",
              "This book comes out swinging and does not provide any backing. It's hard to follow. Maybe I missed a series or book to tie this together.                                                                                                                                                                                                                                                                                                                                                                                                                                                                                                                                                                                                                                                                                                                                                                                                                                                                                                                                                                                                                                                                                                                                                                                                                                                                                                                                                                                                                                                                                                                                                                                                                                                                                                                                                                                                                                                                                                                                                                                                                                                                                                                                                                                                                                                                                                                                                                                                                                                                                                                                                                                                                                                                                                                                                                                                                                                                                                    1\n",
              "The worst kind:  You are drawn in  enough to want to know what happens -- and as it gets more and more ludicrous, ridiculous and  just  juvenile, you have to keep slogging on because you still want to know what happens.                                                                                                                                                                                                                                                                                                                                                                                                                                                                                                                                                                                                                                                                                                                                                                                                                                                                                                                                                                                                                                                                                                                                                                                                                                                                                                                                                                                                                                                                                                                                                                                                                                                                                                                                                                                                                                                                                                                                                                                                                                                                                                                                                                                                                                                                                                                                                                                                                                                                                                                                                                                                                                                                                                                                                                                                                  1\n",
              "I enjoyed the premise of this story. The storyline however was a bit too abrupt for my taste. Because it was a novella, the story moves fast but seems like it leaves out a lot. The beginning of the story makes you feel like you're coming into something where the back story must have been given 50 pages prior. I'd love to see this book and the rest of the series as a full length novel. For now I'll just take this as a taste of what Ms. Teshco has to offer.                                                                                                                                                                                                                                                                                                                                                                                                                                                                                                                                                                                                                                                                                                                                                                                                                                                                                                                                                                                                                                                                                                                                                                                                                                                                                                                                                                                                                                                                                                                                                                                                                                                                                                                                                                                                                                                                                                                                                                                                                                                                                                                                                                                                                                                                                                                                                                                                                                                                                                                                                                  1\n",
              "Though these be the tales of the brothers, the tales are incorrect.  These stories are happy tales while the tales written by the brothers were horrid and without a happy ending.                                                                                                                                                                                                                                                                                                                                                                                                                                                                                                                                                                                                                                                                                                                                                                                                                                                                                                                                                                                                                                                                                                                                                                                                                                                                                                                                                                                                                                                                                                                                                                                                                                                                                                                                                                                                                                                                                                                                                                                                                                                                                                                                                                                                                                                                                                                                                                                                                                                                                                                                                                                                                                                                                                                                                                                                                                                           1\n",
              "                                                                                                                                                                                                                                                                                                                                                                                                                                                                                                                                                                                                                                                                                                                                                                                                                                                                                                                                                                                                                                                                                                                                                                                                                                                                                                                                                                                                                                                                                                                                                                                                                                                                                                                                                                                                                                                                                                                                                                                                                                                                                                                                                                                                                                                                                                                                                                                                                                                                                                                                                                                                                                                                                                                                                                                                                                                                                                                                                                                                                                            ..\n",
              "Had to read certain passages twice--typos.  Wish there had been more on how they built up to a relationship.  I felt no chemistry between these two.                                                                                                                                                                                                                                                                                                                                                                                                                                                                                                                                                                                                                                                                                                                                                                                                                                                                                                                                                                                                                                                                                                                                                                                                                                                                                                                                                                                                                                                                                                                                                                                                                                                                                                                                                                                                                                                                                                                                                                                                                                                                                                                                                                                                                                                                                                                                                                                                                                                                                                                                                                                                                                                                                                                                                                                                                                                                                         1\n",
              "I liked the change of not being a skinny girl but the story is rather short and only has one major love piece.  The story is different but still cliche.                                                                                                                                                                                                                                                                                                                                                                                                                                                                                                                                                                                                                                                                                                                                                                                                                                                                                                                                                                                                                                                                                                                                                                                                                                                                                                                                                                                                                                                                                                                                                                                                                                                                                                                                                                                                                                                                                                                                                                                                                                                                                                                                                                                                                                                                                                                                                                                                                                                                                                                                                                                                                                                                                                                                                                                                                                                                                     1\n",
              "I was really looking forward to this book as Radin was always my favorite and I couldn't wait for him to return. This was a fantastic conclusion to the series! The raedjour as a people are dying. They've lost so much since their goddess left when Radin was trapped in the void. This finale answered a lot of questions and took the story in a direction I hadn't been anticipating.But first, can I just say, Eyrhaen was a horrible, narcissistic, egotistic BRAT of the highest order. I realize she was the first female raedjour born, EVER, but you'd think her parents could have done a little disciplining at some point in time. She was so horrid for most of the book that even when she started to come around and actually have a conscience I just could never completely warm up to her. Her three closest friends she tortured and treated like pets. That is not a princess in my mind!!Nialdlyn was back and in a somewhat surprising role. Having spent the past more than two decades with the raedjour she is a valuable part of their city and their people. It's absolutely no wonder to me that she and Eryhaen can not stand each other. And, seriously, that was fun to watch!Oh Radin. You've been missed. Without going into spoilers I can not explain what changes he underwent in the void but suffice to say the changes are huge and massively influential.There is so much that I could say but it would all be spoilers. So, trust me that this final book was really good. I had some frustration but mainly over some behaviors, although Radin certainly knew how to knock Eryhaen down a peg or two! So in the end this final book did great justice to the entire series!                                                                                                                                                                                                                                                                                                                                                                                                                                                                                                                                                                                                                                                                                                                                                                                                                                                                                                                                                                                                                                                                                                                                                                                                                                                                                                                    1\n",
              "No one could possibly take this book seriously! A girl lies to her mother about having a boyfriend she lives with (for two years!) works for a hottie veterinary surgeon and of course, secretly fancies him something rotten. She persuades him to come home with her for Christmas and pretend to be the boyfriend! Things go downhill - or uphill, depending on your perspective - from there.This is the perfect frothy, slightly silly, but good-natured romantic fantasy novel to read on a cold and rainy day, snuggled in bed with a hot water bottle and chocolate - as I did  :)                                                                                                                                                                                                                                                                                                                                                                                                                                                                                                                                                                                                                                                                                                                                                                                                                                                                                                                                                                                                                                                                                                                                                                                                                                                                                                                                                                                                                                                                                                                                                                                                                                                                                                                                                                                                                                                                                                                                                                                                                                                                                                                                                                                                                                                                                                                                                                                                                                                   1\n",
              "Taking Instruction is a look into the often hidden world of sexual BDSM and it does a pretty good job of telling the story. I did get a sense of Craig's and Jessica's personalities, but they weren't really well-developed. The characterizations seemed overwhelmed by the explicit sex scenes which composed most of the story. I did wonder where Craig got the money to have a custom-made dungeon built and do so much traveling on a professor's salary since I know from personal experience how poorly academics are paid. Overall, since I did find some of the scenes to be erotic, I would recommend this book.                                                                                                                                                                                                                                                                                                                                                                                                                                                                                                                                                                                                                                                                                                                                                                                                                                                                                                                                                                                                                                                                                                                                                                                                                                                                                                                                                                                                                                                                                                                                                                                                                                                                                                                                                                                                                                                                                                                                                                                                                                                                                                                                                                                                                                                                                                                                                                                                                 1\n",
              "Name: count, Length: 12000, dtype: int64"
            ]
          },
          "execution_count": 77,
          "metadata": {},
          "output_type": "execute_result"
        }
      ],
      "source": [
        "df['reviewText'].value_counts()"
      ]
    },
    {
      "cell_type": "markdown",
      "id": "238a9cf0",
      "metadata": {
        "id": "238a9cf0"
      },
      "source": [
        "### Preprocessing the Text data\n",
        "- Remove duplicates\n",
        "- Remove missing values\n",
        "- Remove Stopwords\n",
        "- Remove non alphabatic\n",
        "- Stemming or Lemmatization"
      ]
    },
    {
      "cell_type": "code",
      "execution_count": null,
      "id": "edadf48e",
      "metadata": {
        "id": "edadf48e",
        "outputId": "a32d0630-bb10-4504-f1f2-cef0b983a67b"
      },
      "outputs": [
        {
          "data": {
            "text/plain": [
              "0"
            ]
          },
          "execution_count": 78,
          "metadata": {},
          "output_type": "execute_result"
        }
      ],
      "source": [
        "df1.duplicated().sum()"
      ]
    },
    {
      "cell_type": "markdown",
      "id": "e57b1349",
      "metadata": {
        "id": "e57b1349"
      },
      "source": [
        "- No duplicates"
      ]
    },
    {
      "cell_type": "code",
      "execution_count": null,
      "id": "7d86a320",
      "metadata": {
        "id": "7d86a320",
        "outputId": "06313b0d-746e-494f-c9b6-11558855aa2c"
      },
      "outputs": [
        {
          "data": {
            "text/plain": [
              "reviewText    0\n",
              "rating        0\n",
              "dtype: int64"
            ]
          },
          "execution_count": 79,
          "metadata": {},
          "output_type": "execute_result"
        }
      ],
      "source": [
        "df1.isnull().sum()"
      ]
    },
    {
      "cell_type": "markdown",
      "id": "295cb787",
      "metadata": {
        "id": "295cb787"
      },
      "source": [
        "- No missing values"
      ]
    },
    {
      "cell_type": "code",
      "execution_count": null,
      "id": "b4e5cc7e",
      "metadata": {
        "id": "b4e5cc7e",
        "outputId": "6b430f70-f5f6-4001-ee8d-e9cf1fa3b37d"
      },
      "outputs": [
        {
          "data": {
            "text/plain": [
              "\"Great short read.  I didn't want to put it down so I read it all in one sitting.  The sex scenes were great between the two males and one female character...a bit surprising - I never thought you could do that!  I learned something new and really enjoyed reading this book!  This is a great way to get all hot and bothered and take advantage of your significant other(s)!\""
            ]
          },
          "execution_count": 80,
          "metadata": {},
          "output_type": "execute_result"
        }
      ],
      "source": [
        "df1['reviewText'].iloc[0]"
      ]
    },
    {
      "cell_type": "code",
      "execution_count": null,
      "id": "805c1636",
      "metadata": {
        "id": "805c1636"
      },
      "outputs": [],
      "source": [
        "#convert all the character into lower case\n",
        "df1['reviewText']=df1['reviewText'].str.lower()"
      ]
    },
    {
      "cell_type": "code",
      "execution_count": null,
      "id": "b9dc96df",
      "metadata": {
        "id": "b9dc96df",
        "outputId": "2b796532-2f49-48a6-d276-71989b4b11f8"
      },
      "outputs": [
        {
          "data": {
            "text/plain": [
              "\"great short read.  i didn't want to put it down so i read it all in one sitting.  the sex scenes were great between the two males and one female character...a bit surprising - i never thought you could do that!  i learned something new and really enjoyed reading this book!  this is a great way to get all hot and bothered and take advantage of your significant other(s)!\""
            ]
          },
          "execution_count": 82,
          "metadata": {},
          "output_type": "execute_result"
        }
      ],
      "source": [
        "df1['reviewText'].iloc[0]"
      ]
    },
    {
      "cell_type": "code",
      "execution_count": null,
      "id": "7a82bae1",
      "metadata": {
        "id": "7a82bae1"
      },
      "outputs": [],
      "source": [
        "# remove the characters other than alphabets and numericals\n",
        "df1['reviewText']=df1['reviewText'].apply(lambda x:re.sub(\"[^A-Z a-z 0-9]+\",\" \",x))"
      ]
    },
    {
      "cell_type": "code",
      "execution_count": null,
      "id": "a6225ae7",
      "metadata": {
        "id": "a6225ae7",
        "outputId": "df2ff1ae-adb0-47e8-d8bf-1122e7ed802b"
      },
      "outputs": [
        {
          "data": {
            "text/plain": [
              "'great short read   i didn t want to put it down so i read it all in one sitting   the sex scenes were great between the two males and one female character a bit surprising   i never thought you could do that   i learned something new and really enjoyed reading this book   this is a great way to get all hot and bothered and take advantage of your significant other s '"
            ]
          },
          "execution_count": 84,
          "metadata": {},
          "output_type": "execute_result"
        }
      ],
      "source": [
        "df1['reviewText'].iloc[0]"
      ]
    },
    {
      "cell_type": "code",
      "execution_count": null,
      "id": "b6e2b5df",
      "metadata": {
        "id": "b6e2b5df"
      },
      "outputs": [],
      "source": [
        "# remove the stopwords\n",
        "df1['reviewText']=df1['reviewText'].apply(lambda x:\" \".join([y for y in x.split() if not y in stopwords.words(\"english\")]))"
      ]
    },
    {
      "cell_type": "code",
      "execution_count": null,
      "id": "c546f268",
      "metadata": {
        "id": "c546f268",
        "outputId": "76ef0b9b-9567-4056-829c-0daeca61f082"
      },
      "outputs": [
        {
          "data": {
            "text/plain": [
              "'great short read want put read one sitting sex scenes great two males one female character bit surprising never thought could learned something new really enjoyed reading book great way get hot bothered take advantage significant'"
            ]
          },
          "execution_count": 86,
          "metadata": {},
          "output_type": "execute_result"
        }
      ],
      "source": [
        "df1['reviewText'].iloc[0]"
      ]
    },
    {
      "cell_type": "code",
      "execution_count": null,
      "id": "74193880",
      "metadata": {
        "id": "74193880"
      },
      "outputs": [],
      "source": [
        "# remove the hyperlinks and website linkes\n",
        "\n",
        "df1['reviewText']=df1['reviewText'].apply(lambda x: re.sub(r'(http|https|ftp|ssh)://[\\w_-]+(?:\\.[\\w_-]+)+[\\w.,@?^=%&:/~+#-]*[\\w@?^=%&/~+#-]?', '', x))"
      ]
    },
    {
      "cell_type": "code",
      "execution_count": null,
      "id": "6ff70bc9",
      "metadata": {
        "id": "6ff70bc9",
        "outputId": "db15b708-3ed6-412a-d679-e9ed16f9e5e9"
      },
      "outputs": [
        {
          "data": {
            "text/plain": [
              "'great short read want put read one sitting sex scenes great two males one female character bit surprising never thought could learned something new really enjoyed reading book great way get hot bothered take advantage significant'"
            ]
          },
          "execution_count": 88,
          "metadata": {},
          "output_type": "execute_result"
        }
      ],
      "source": [
        "df1['reviewText'].iloc[0]"
      ]
    },
    {
      "cell_type": "code",
      "execution_count": null,
      "id": "a2a8fc30",
      "metadata": {
        "id": "a2a8fc30"
      },
      "outputs": [],
      "source": [
        "## remove the html tags if the text contains\n",
        "df1['reviewText'] = df1['reviewText'].apply(lambda x: re.sub(r'<.*?>', '', x))"
      ]
    },
    {
      "cell_type": "code",
      "execution_count": null,
      "id": "1ec4d29f",
      "metadata": {
        "id": "1ec4d29f",
        "outputId": "94670a08-f452-445f-9c82-15028478c79e"
      },
      "outputs": [
        {
          "data": {
            "text/plain": [
              "'great short read want put read one sitting sex scenes great two males one female character bit surprising never thought could learned something new really enjoyed reading book great way get hot bothered take advantage significant'"
            ]
          },
          "execution_count": 90,
          "metadata": {},
          "output_type": "execute_result"
        }
      ],
      "source": [
        "df1['reviewText'].iloc[0]"
      ]
    },
    {
      "cell_type": "code",
      "execution_count": null,
      "id": "9ff4e8c1",
      "metadata": {
        "id": "9ff4e8c1"
      },
      "outputs": [],
      "source": [
        "df1['reviewText'] = df1['reviewText'].apply(lambda x: \" \".join(x.split()))"
      ]
    },
    {
      "cell_type": "code",
      "execution_count": null,
      "id": "748128aa",
      "metadata": {
        "id": "748128aa",
        "outputId": "8733e1ed-d0a8-423a-d1a1-b42c668b57b7"
      },
      "outputs": [
        {
          "data": {
            "text/plain": [
              "'great short read want put read one sitting sex scenes great two males one female character bit surprising never thought could learned something new really enjoyed reading book great way get hot bothered take advantage significant'"
            ]
          },
          "execution_count": 92,
          "metadata": {},
          "output_type": "execute_result"
        }
      ],
      "source": [
        "df1['reviewText'].iloc[0]"
      ]
    },
    {
      "cell_type": "markdown",
      "id": "8ec5aa02",
      "metadata": {
        "id": "8ec5aa02"
      },
      "source": [
        "### Text Before the Preprocessing"
      ]
    },
    {
      "cell_type": "code",
      "execution_count": null,
      "id": "36cb7998",
      "metadata": {
        "id": "36cb7998",
        "outputId": "eb09448a-3e05-4847-b98e-d2350f95f96d"
      },
      "outputs": [
        {
          "data": {
            "text/plain": [
              "'Jace Rankin may be short, but he\\'s nothing to mess with, as the man who was just hauled out of the saloon by the undertaker knows now. He\\'s a famous bounty hunter in Oregon in the 1890s who, when he shot the man in the saloon, just finished a years long quest to avenge his sister\\'s murder and is now trying to figure out what to do next. When the snotty-nosed farm boy he just rescued from a gang of bullies offers him money to kill a man who forced him off his ranch, he reluctantly agrees to bring the man to justice, but not to kill him outright. But, first he needs to tell his sister\\'s widower the news.Kyla \"Kyle\" Springer Bailey has been riding the trails and sleeping on the ground for the past month while trying to find Jace. She wants revenge on the man who killed her husband and took her ranch, amongst other crimes, and she\\'s not so keen on the detour Jace wants to take. But she realizes she\\'s out of options, so she hides behind her boy persona as best she can and tries to keep pace. When a confrontation along the way gets her shot and Jace discovers that Kyle\\'s a Kyla, she has to come clean about the *whole* reason she needs this scoundrel dead and hope he\\'ll still help her.The book has its share of touching moments and slow-blooming romance. Kyla, we find out, has good reason to fear men and hide behind a boy\\'s persona. Watching Jace slowly pull her out of that shell and help her conquer her fears was endearing. Her pain was real and deeply-rooted and didn\\'t just disappear in the face of his sexiness. Neither did his understandable aversion to marriage magically disappear after a round of nookie. Why would a man who\\'s drifted from town to town for his entire adult life - a man who\\'s killed his fair share of men along the way - feel he\\'d make a good husband or father? They\\'re both the walking wounded and in a unique position to help each other, they just need time to realize it.However, while it was packed to bursting with my favorite themes - Old West setting, a heroine passing as male, a morally ambiguous hero, wounded souls, road romance, the kitchen sink - there was a certain...distance in the writing that kept me from getting carried away. Both characters were distinct and fully-formed and I couldn\\'t point to any glaring instances of bland telling or anything, I just never felt really invested. I enjoyed it quite a bit, as it was an exciting trip, but I was watching them from far away. I definitely wasn\\'t on the run alongside them. Add on a hasty and too tidy ending, and the book left me feeling a bit less than completely satisfied.I enjoyed the book, but I can\\'t say it was above average. I\\'d still read another book by the author.Note: I read the re-released ebook version and noticed there were a lot of formatting errors and missing words. I had to mentally edit as I read for some sentences to make sense. It wasn\\'t too too bad, but it was a little distracting.'"
            ]
          },
          "execution_count": 93,
          "metadata": {},
          "output_type": "execute_result"
        }
      ],
      "source": [
        "df['reviewText'].iloc[0]"
      ]
    },
    {
      "cell_type": "code",
      "execution_count": null,
      "id": "e9b0259a",
      "metadata": {
        "id": "e9b0259a"
      },
      "outputs": [],
      "source": [
        "def preprocess(text):\n",
        "    # convert the all characters into lower case\n",
        "    text=text.lower()\n",
        "    # remove the character other than alphabets and numericals\n",
        "    text=re.sub(\"[^A-Z a-z 0-9]+\",\" \",text)\n",
        "    #remove the stop words\n",
        "    text=\" \".join([y for y in text.split() if not y in stopwords.words(\"english\")])\n",
        "    #remove the hyperlinks\n",
        "    text=re.sub(r'(http|https|ftp|ssh)://[\\w_-]+(?:\\.[\\w_-]+)+[\\w.,@?^=%&:/~+#-]*[\\w@?^=%&/~+#-]?', '',text)\n",
        "    # remove the html tags\n",
        "    text=re.sub(r'<.*?>', '', text)\n",
        "    return text"
      ]
    },
    {
      "cell_type": "code",
      "execution_count": null,
      "id": "ce1a1ec6",
      "metadata": {
        "id": "ce1a1ec6",
        "outputId": "14d96219-246f-4edd-90ce-76a2d85acdbb"
      },
      "outputs": [
        {
          "data": {
            "text/plain": [
              "'jace rankin may short nothing mess man hauled saloon undertaker knows famous bounty hunter oregon 1890s shot man saloon finished years long quest avenge sister murder trying figure next snotty nosed farm boy rescued gang bullies offers money kill man forced ranch reluctantly agrees bring man justice kill outright first needs tell sister widower news kyla kyle springer bailey riding trails sleeping ground past month trying find jace wants revenge man killed husband took ranch amongst crimes keen detour jace wants take realizes options hides behind boy persona best tries keep pace confrontation along way gets shot jace discovers kyle kyla come clean whole reason needs scoundrel dead hope still help book share touching moments slow blooming romance kyla find good reason fear men hide behind boy persona watching jace slowly pull shell help conquer fears endearing pain real deeply rooted disappear face sexiness neither understandable aversion marriage magically disappear round nookie would man drifted town town entire adult life man killed fair share men along way feel make good husband father walking wounded unique position help need time realize however packed bursting favorite themes old west setting heroine passing male morally ambiguous hero wounded souls road romance kitchen sink certain distance writing kept getting carried away characters distinct fully formed point glaring instances bland telling anything never felt really invested enjoyed quite bit exciting trip watching far away definitely run alongside add hasty tidy ending book left feeling bit less completely satisfied enjoyed book say average still read another book author note read released ebook version noticed lot formatting errors missing words mentally edit read sentences make sense bad little distracting'"
            ]
          },
          "execution_count": 99,
          "metadata": {},
          "output_type": "execute_result"
        }
      ],
      "source": [
        "preprocess(df['reviewText'].iloc[0])"
      ]
    },
    {
      "cell_type": "code",
      "execution_count": null,
      "id": "c297a239",
      "metadata": {
        "id": "c297a239"
      },
      "outputs": [],
      "source": [
        "df1['reviewText']=df1['reviewText'].apply(lambda x: \" \".join([WordNetLemmatizer().lemmatize(y) for y in x.split()]))"
      ]
    },
    {
      "cell_type": "code",
      "execution_count": null,
      "id": "e3df2012",
      "metadata": {
        "id": "e3df2012",
        "outputId": "790d9cc3-fd2b-4a7a-dec7-93109f16837d"
      },
      "outputs": [
        {
          "data": {
            "text/plain": [
              "'great short read want put read one sitting sex scene great two male one female character bit surprising never thought could learned something new really enjoyed reading book great way get hot bothered take advantage significant'"
            ]
          },
          "execution_count": 103,
          "metadata": {},
          "output_type": "execute_result"
        }
      ],
      "source": [
        "df1['reviewText'].iloc[0]"
      ]
    },
    {
      "cell_type": "code",
      "execution_count": null,
      "id": "7abc026e",
      "metadata": {
        "id": "7abc026e"
      },
      "outputs": [],
      "source": [
        "df2=df1"
      ]
    },
    {
      "cell_type": "code",
      "execution_count": null,
      "id": "e066feb6",
      "metadata": {
        "id": "e066feb6",
        "outputId": "aebe7cd1-4c10-4ec8-8403-c2e91a4dc4ae"
      },
      "outputs": [
        {
          "data": {
            "text/html": [
              "<div>\n",
              "<style scoped>\n",
              "    .dataframe tbody tr th:only-of-type {\n",
              "        vertical-align: middle;\n",
              "    }\n",
              "\n",
              "    .dataframe tbody tr th {\n",
              "        vertical-align: top;\n",
              "    }\n",
              "\n",
              "    .dataframe thead th {\n",
              "        text-align: right;\n",
              "    }\n",
              "</style>\n",
              "<table border=\"1\" class=\"dataframe\">\n",
              "  <thead>\n",
              "    <tr style=\"text-align: right;\">\n",
              "      <th></th>\n",
              "      <th>reviewText</th>\n",
              "      <th>rating</th>\n",
              "    </tr>\n",
              "  </thead>\n",
              "  <tbody>\n",
              "    <tr>\n",
              "      <th>1</th>\n",
              "      <td>great short read want put read one sitting sex...</td>\n",
              "      <td>1</td>\n",
              "    </tr>\n",
              "    <tr>\n",
              "      <th>4</th>\n",
              "      <td>expect type book library pleased find price right</td>\n",
              "      <td>1</td>\n",
              "    </tr>\n",
              "    <tr>\n",
              "      <th>5</th>\n",
              "      <td>aislinn little girl big dream death older brot...</td>\n",
              "      <td>1</td>\n",
              "    </tr>\n",
              "    <tr>\n",
              "      <th>6</th>\n",
              "      <td>making good story unfortunately disappoints te...</td>\n",
              "      <td>0</td>\n",
              "    </tr>\n",
              "    <tr>\n",
              "      <th>7</th>\n",
              "      <td>got like collaborated short story alot time tw...</td>\n",
              "      <td>1</td>\n",
              "    </tr>\n",
              "  </tbody>\n",
              "</table>\n",
              "</div>"
            ],
            "text/plain": [
              "                                          reviewText  rating\n",
              "1  great short read want put read one sitting sex...       1\n",
              "4  expect type book library pleased find price right       1\n",
              "5  aislinn little girl big dream death older brot...       1\n",
              "6  making good story unfortunately disappoints te...       0\n",
              "7  got like collaborated short story alot time tw...       1"
            ]
          },
          "execution_count": 115,
          "metadata": {},
          "output_type": "execute_result"
        }
      ],
      "source": [
        "df2.head()"
      ]
    },
    {
      "cell_type": "code",
      "execution_count": null,
      "id": "8f8d5f2f",
      "metadata": {
        "id": "8f8d5f2f"
      },
      "outputs": [],
      "source": [
        "df2.to_csv(\"cleaned_kindle_reivews.csv\",index=False)"
      ]
    },
    {
      "cell_type": "code",
      "execution_count": null,
      "id": "4HvXJ9VHIUrT",
      "metadata": {
        "id": "4HvXJ9VHIUrT"
      },
      "outputs": [],
      "source": [
        "df2=pd.read_csv(\"cleaned_kindle_reivews.csv\")"
      ]
    },
    {
      "cell_type": "markdown",
      "id": "d930262d",
      "metadata": {
        "id": "d930262d"
      },
      "source": [
        "### Splitting the data into the training and testing data"
      ]
    },
    {
      "cell_type": "code",
      "execution_count": null,
      "id": "296f7caf",
      "metadata": {
        "id": "296f7caf"
      },
      "outputs": [],
      "source": [
        "from sklearn.model_selection import train_test_split"
      ]
    },
    {
      "cell_type": "code",
      "execution_count": null,
      "id": "5e3610cf",
      "metadata": {
        "id": "5e3610cf"
      },
      "outputs": [],
      "source": [
        "X_train, X_test, y_train, y_test=train_test_split(df2['reviewText'],df2['rating'],test_size=0.2,random_state=42)"
      ]
    },
    {
      "cell_type": "code",
      "execution_count": null,
      "id": "5c739521",
      "metadata": {
        "colab": {
          "base_uri": "https://localhost:8080/"
        },
        "id": "5c739521",
        "outputId": "425f3f79-d1a2-427f-e2d6-04a20bd25c54"
      },
      "outputs": [
        {
          "name": "stdout",
          "output_type": "stream",
          "text": [
            "X train shape (8000,)\n",
            "y train shape (8000,)\n",
            "x test shape (2000,)\n",
            "y test shape (2000,)\n"
          ]
        }
      ],
      "source": [
        "print(\"X train shape\",X_train.shape)\n",
        "print(\"y train shape\",y_train.shape)\n",
        "print(\"x test shape\",X_test.shape)\n",
        "print(\"y test shape\",y_test.shape)\n"
      ]
    },
    {
      "cell_type": "code",
      "execution_count": null,
      "id": "602fe2f5",
      "metadata": {
        "id": "602fe2f5"
      },
      "outputs": [],
      "source": []
    },
    {
      "cell_type": "markdown",
      "id": "c5765038",
      "metadata": {
        "id": "c5765038"
      },
      "source": [
        "### Text to vector"
      ]
    },
    {
      "cell_type": "markdown",
      "id": "b41e90c3",
      "metadata": {
        "id": "b41e90c3"
      },
      "source": [
        "### Bag of Words(BOW)"
      ]
    },
    {
      "cell_type": "code",
      "execution_count": null,
      "id": "0f9c2b71",
      "metadata": {
        "id": "0f9c2b71"
      },
      "outputs": [],
      "source": [
        "from sklearn.feature_extraction.text import CountVectorizer\n",
        "from sklearn.feature_extraction.text import TfidfVectorizer\n",
        "from gensim.models import Word2Vec"
      ]
    },
    {
      "cell_type": "code",
      "execution_count": null,
      "id": "8504b57d",
      "metadata": {
        "id": "8504b57d"
      },
      "outputs": [],
      "source": [
        "vecotrizer=CountVectorizer()\n",
        "x_train_bow=vecotrizer.fit_transform(X_train).toarray()\n",
        "x_test_bow=vecotrizer.transform(X_test).toarray()"
      ]
    },
    {
      "cell_type": "code",
      "execution_count": null,
      "id": "ad2b586f",
      "metadata": {
        "colab": {
          "base_uri": "https://localhost:8080/"
        },
        "id": "ad2b586f",
        "outputId": "89a267a9-cf28-42d8-e22a-4c67790af28a"
      },
      "outputs": [
        {
          "data": {
            "text/plain": [
              "(8000, 22485)"
            ]
          },
          "execution_count": 14,
          "metadata": {},
          "output_type": "execute_result"
        }
      ],
      "source": [
        "x_train_bow.shape"
      ]
    },
    {
      "cell_type": "code",
      "execution_count": null,
      "id": "1899a548",
      "metadata": {
        "colab": {
          "base_uri": "https://localhost:8080/"
        },
        "id": "1899a548",
        "outputId": "aa8175b8-8693-4d2c-c649-e39ded1d884f"
      },
      "outputs": [
        {
          "data": {
            "text/plain": [
              "array([0, 0, 0, ..., 0, 0, 0])"
            ]
          },
          "execution_count": 15,
          "metadata": {},
          "output_type": "execute_result"
        }
      ],
      "source": [
        "x_train_bow[0]"
      ]
    },
    {
      "cell_type": "code",
      "execution_count": null,
      "id": "e8c4c44f",
      "metadata": {
        "colab": {
          "base_uri": "https://localhost:8080/"
        },
        "id": "e8c4c44f",
        "outputId": "ee70d2c1-7b07-4625-d34d-0c4ae1008751"
      },
      "outputs": [
        {
          "name": "stdout",
          "output_type": "stream",
          "text": [
            "X train BOW shape (8000, 22485)\n",
            "x test BOW shape (2000, 22485)\n"
          ]
        }
      ],
      "source": [
        "print(\"X train BOW shape\",x_train_bow.shape)\n",
        "\n",
        "print(\"x test BOW shape\",x_test_bow.shape)\n"
      ]
    },
    {
      "cell_type": "markdown",
      "id": "233d7994",
      "metadata": {
        "id": "233d7994"
      },
      "source": [
        "### TF-IDF"
      ]
    },
    {
      "cell_type": "code",
      "execution_count": null,
      "id": "e5baf583",
      "metadata": {
        "id": "e5baf583"
      },
      "outputs": [],
      "source": [
        "tfidf=TfidfVectorizer()\n",
        "x_train_tfidf=tfidf.fit_transform(X_train).toarray()\n",
        "x_test_tfidf=tfidf.transform(X_test).toarray()"
      ]
    },
    {
      "cell_type": "code",
      "execution_count": null,
      "id": "76772b66",
      "metadata": {
        "colab": {
          "base_uri": "https://localhost:8080/"
        },
        "id": "76772b66",
        "outputId": "290c52d9-9709-450b-a26e-697cbe5e9eb2"
      },
      "outputs": [
        {
          "name": "stdout",
          "output_type": "stream",
          "text": [
            "X train TFIDF shape (8000, 22485)\n",
            "x test TFIDF shape (2000, 22485)\n"
          ]
        }
      ],
      "source": [
        "print(\"X train TFIDF shape\",x_train_tfidf.shape)\n",
        "\n",
        "print(\"x test TFIDF shape\",x_test_tfidf.shape)\n"
      ]
    },
    {
      "cell_type": "markdown",
      "id": "15ece2d8",
      "metadata": {
        "id": "15ece2d8"
      },
      "source": [
        "### Word2Vec"
      ]
    },
    {
      "cell_type": "code",
      "execution_count": null,
      "id": "e5803789",
      "metadata": {
        "id": "e5803789"
      },
      "outputs": [],
      "source": [
        "# tokenize the sentence\n",
        "X_train_tokens=[review.split() for review in X_train]\n",
        "X_test_tokens=[review.split() for review in X_test]"
      ]
    },
    {
      "cell_type": "code",
      "execution_count": null,
      "id": "a5f3503f",
      "metadata": {
        "colab": {
          "base_uri": "https://localhost:8080/"
        },
        "id": "a5f3503f",
        "outputId": "fe3dab4d-0003-4ffd-e83b-7f7a5263cd5f"
      },
      "outputs": [
        {
          "data": {
            "text/plain": [
              "['read',\n",
              " 'writing',\n",
              " 'collection',\n",
              " 'thoroughly',\n",
              " 'enjoying',\n",
              " 'reading',\n",
              " 'look',\n",
              " 'forward',\n",
              " 'one',\n",
              " 'previously',\n",
              " 'read']"
            ]
          },
          "execution_count": 20,
          "metadata": {},
          "output_type": "execute_result"
        }
      ],
      "source": [
        "X_train_tokens[0]"
      ]
    },
    {
      "cell_type": "code",
      "execution_count": null,
      "id": "e92d4cb1",
      "metadata": {
        "id": "e92d4cb1"
      },
      "outputs": [],
      "source": [
        "word2vec=Word2Vec(sentences=X_train_tokens,vector_size=100,window=5,min_count=1,workers=4)"
      ]
    },
    {
      "cell_type": "code",
      "execution_count": null,
      "id": "e29ceca9",
      "metadata": {
        "id": "e29ceca9"
      },
      "outputs": [],
      "source": [
        "# build Average word2vec model\n",
        "def avgword2vec(tokens,model):\n",
        "    avg_vec=[]\n",
        "    for review in tokens:\n",
        "        vectors=[model.wv[word] for word in review if word in model.wv]\n",
        "        if vectors:\n",
        "            avg_vec.append(sum(vectors)/len(vectors))\n",
        "        else:\n",
        "            avg_vec.append([0] * model.vector_size)\n",
        "    return avg_vec\n"
      ]
    },
    {
      "cell_type": "code",
      "execution_count": null,
      "id": "ad27606a",
      "metadata": {
        "id": "ad27606a"
      },
      "outputs": [],
      "source": [
        "x_train_w2v=avgword2vec(X_train_tokens,word2vec)"
      ]
    },
    {
      "cell_type": "code",
      "execution_count": null,
      "id": "7ee77c31",
      "metadata": {
        "colab": {
          "base_uri": "https://localhost:8080/"
        },
        "id": "7ee77c31",
        "outputId": "deddd844-5e0e-486a-81b5-36305a5069cb"
      },
      "outputs": [
        {
          "data": {
            "text/plain": [
              "8000"
            ]
          },
          "execution_count": 24,
          "metadata": {},
          "output_type": "execute_result"
        }
      ],
      "source": [
        "len(x_train_w2v)"
      ]
    },
    {
      "cell_type": "code",
      "execution_count": null,
      "id": "ed22e2fd",
      "metadata": {
        "id": "ed22e2fd"
      },
      "outputs": [],
      "source": [
        "x_test_w2v=avgword2vec(X_test_tokens,word2vec)"
      ]
    },
    {
      "cell_type": "code",
      "execution_count": null,
      "id": "4416a881",
      "metadata": {
        "colab": {
          "base_uri": "https://localhost:8080/"
        },
        "id": "4416a881",
        "outputId": "dab4853b-f211-4649-df3e-8eebccae02f6"
      },
      "outputs": [
        {
          "data": {
            "text/plain": [
              "2000"
            ]
          },
          "execution_count": 26,
          "metadata": {},
          "output_type": "execute_result"
        }
      ],
      "source": [
        "len(x_test_w2v)"
      ]
    },
    {
      "cell_type": "markdown",
      "id": "90170d96",
      "metadata": {
        "id": "90170d96"
      },
      "source": [
        "### Model Training and Evalution"
      ]
    },
    {
      "cell_type": "code",
      "execution_count": null,
      "id": "c7caa50f",
      "metadata": {
        "id": "c7caa50f"
      },
      "outputs": [],
      "source": [
        "from sklearn.linear_model import LogisticRegression\n",
        "from sklearn.tree import DecisionTreeClassifier\n",
        "from sklearn.ensemble import RandomForestClassifier\n",
        "from sklearn.svm import SVC\n",
        "from sklearn.metrics import accuracy_score, confusion_matrix, classification_report"
      ]
    },
    {
      "cell_type": "code",
      "execution_count": null,
      "id": "6ac67ac2",
      "metadata": {
        "id": "6ac67ac2"
      },
      "outputs": [],
      "source": [
        "models={\"Logistic Regression\":LogisticRegression(),\n",
        "       \"Decision Tree\":DecisionTreeClassifier(),\n",
        "       \"RandomForestClassifier\":RandomForestClassifier(),\n",
        "       \"SVM\":SVC()\n",
        "       }"
      ]
    },
    {
      "cell_type": "markdown",
      "id": "301fa7eb",
      "metadata": {
        "id": "301fa7eb"
      },
      "source": [
        "#### Train the model with Bag of words"
      ]
    },
    {
      "cell_type": "code",
      "execution_count": null,
      "id": "362fae19",
      "metadata": {
        "colab": {
          "base_uri": "https://localhost:8080/"
        },
        "id": "362fae19",
        "outputId": "ad46c41b-9f9b-4224-d1b1-79b825986595"
      },
      "outputs": [
        {
          "name": "stdout",
          "output_type": "stream",
          "text": [
            "Logistic Regression\n",
            "0.8855\n",
            "[[ 682  129]\n",
            " [ 100 1089]]\n",
            "              precision    recall  f1-score   support\n",
            "\n",
            "           0       0.87      0.84      0.86       811\n",
            "           1       0.89      0.92      0.90      1189\n",
            "\n",
            "    accuracy                           0.89      2000\n",
            "   macro avg       0.88      0.88      0.88      2000\n",
            "weighted avg       0.89      0.89      0.89      2000\n",
            "\n",
            "Decision Tree\n",
            "0.7095\n",
            "[[509 302]\n",
            " [279 910]]\n",
            "              precision    recall  f1-score   support\n",
            "\n",
            "           0       0.65      0.63      0.64       811\n",
            "           1       0.75      0.77      0.76      1189\n",
            "\n",
            "    accuracy                           0.71      2000\n",
            "   macro avg       0.70      0.70      0.70      2000\n",
            "weighted avg       0.71      0.71      0.71      2000\n",
            "\n",
            "RandomForestClassifier\n",
            "0.846\n",
            "[[ 580  231]\n",
            " [  77 1112]]\n",
            "              precision    recall  f1-score   support\n",
            "\n",
            "           0       0.88      0.72      0.79       811\n",
            "           1       0.83      0.94      0.88      1189\n",
            "\n",
            "    accuracy                           0.85      2000\n",
            "   macro avg       0.86      0.83      0.83      2000\n",
            "weighted avg       0.85      0.85      0.84      2000\n",
            "\n",
            "SVM\n",
            "0.865\n",
            "[[ 622  189]\n",
            " [  81 1108]]\n",
            "              precision    recall  f1-score   support\n",
            "\n",
            "           0       0.88      0.77      0.82       811\n",
            "           1       0.85      0.93      0.89      1189\n",
            "\n",
            "    accuracy                           0.86      2000\n",
            "   macro avg       0.87      0.85      0.86      2000\n",
            "weighted avg       0.87      0.86      0.86      2000\n",
            "\n"
          ]
        }
      ],
      "source": [
        "for key,value in models.items():\n",
        "    print(key)\n",
        "    value.fit(x_train_bow,y_train)\n",
        "    y_pred=value.predict(x_test_bow)\n",
        "    print(accuracy_score(y_test,y_pred))\n",
        "    print(confusion_matrix(y_test,y_pred))\n",
        "    print(classification_report(y_test,y_pred))"
      ]
    },
    {
      "cell_type": "markdown",
      "id": "5b493cb0",
      "metadata": {
        "id": "5b493cb0"
      },
      "source": [
        "#### Train the Model with TF-IDF"
      ]
    },
    {
      "cell_type": "code",
      "execution_count": null,
      "id": "4e5e54d8",
      "metadata": {
        "colab": {
          "base_uri": "https://localhost:8080/"
        },
        "id": "4e5e54d8",
        "outputId": "331a24a6-05bc-4b33-bc4c-170063d0ebf6"
      },
      "outputs": [
        {
          "name": "stdout",
          "output_type": "stream",
          "text": [
            "Logistic Regression\n",
            "********************\n",
            "0.888\n",
            "[[ 656  155]\n",
            " [  69 1120]]\n",
            "              precision    recall  f1-score   support\n",
            "\n",
            "           0       0.90      0.81      0.85       811\n",
            "           1       0.88      0.94      0.91      1189\n",
            "\n",
            "    accuracy                           0.89      2000\n",
            "   macro avg       0.89      0.88      0.88      2000\n",
            "weighted avg       0.89      0.89      0.89      2000\n",
            "\n",
            "Decision Tree\n",
            "********************\n",
            "0.7205\n",
            "[[527 284]\n",
            " [275 914]]\n",
            "              precision    recall  f1-score   support\n",
            "\n",
            "           0       0.66      0.65      0.65       811\n",
            "           1       0.76      0.77      0.77      1189\n",
            "\n",
            "    accuracy                           0.72      2000\n",
            "   macro avg       0.71      0.71      0.71      2000\n",
            "weighted avg       0.72      0.72      0.72      2000\n",
            "\n",
            "RandomForestClassifier\n",
            "********************\n",
            "0.849\n",
            "[[ 577  234]\n",
            " [  68 1121]]\n",
            "              precision    recall  f1-score   support\n",
            "\n",
            "           0       0.89      0.71      0.79       811\n",
            "           1       0.83      0.94      0.88      1189\n",
            "\n",
            "    accuracy                           0.85      2000\n",
            "   macro avg       0.86      0.83      0.84      2000\n",
            "weighted avg       0.85      0.85      0.85      2000\n",
            "\n",
            "SVM\n",
            "********************\n",
            "0.8945\n",
            "[[ 667  144]\n",
            " [  67 1122]]\n",
            "              precision    recall  f1-score   support\n",
            "\n",
            "           0       0.91      0.82      0.86       811\n",
            "           1       0.89      0.94      0.91      1189\n",
            "\n",
            "    accuracy                           0.89      2000\n",
            "   macro avg       0.90      0.88      0.89      2000\n",
            "weighted avg       0.90      0.89      0.89      2000\n",
            "\n"
          ]
        }
      ],
      "source": [
        "for key,value in models.items():\n",
        "    print(key)\n",
        "    print(\"*\"*20)\n",
        "    value.fit(x_train_tfidf,y_train)\n",
        "    y_pred=value.predict(x_test_tfidf)\n",
        "    print(accuracy_score(y_test,y_pred))\n",
        "    print(confusion_matrix(y_test,y_pred))\n",
        "    print(classification_report(y_test,y_pred))"
      ]
    },
    {
      "cell_type": "markdown",
      "id": "32f814ff",
      "metadata": {
        "id": "32f814ff"
      },
      "source": [
        "#### Train the Model with Word2vec"
      ]
    },
    {
      "cell_type": "code",
      "execution_count": null,
      "id": "1f6f0a31",
      "metadata": {
        "colab": {
          "base_uri": "https://localhost:8080/"
        },
        "id": "1f6f0a31",
        "outputId": "f9096f03-9304-4a16-d4f5-36b9acc9c8f8"
      },
      "outputs": [
        {
          "name": "stdout",
          "output_type": "stream",
          "text": [
            "Logistic Regression\n",
            "--------------------------------------------------\n",
            "0.7755\n",
            "[[553 258]\n",
            " [191 998]]\n",
            "              precision    recall  f1-score   support\n",
            "\n",
            "           0       0.74      0.68      0.71       811\n",
            "           1       0.79      0.84      0.82      1189\n",
            "\n",
            "    accuracy                           0.78      2000\n",
            "   macro avg       0.77      0.76      0.76      2000\n",
            "weighted avg       0.77      0.78      0.77      2000\n",
            "\n",
            "Decision Tree\n",
            "--------------------------------------------------\n",
            "0.665\n",
            "[[471 340]\n",
            " [330 859]]\n",
            "              precision    recall  f1-score   support\n",
            "\n",
            "           0       0.59      0.58      0.58       811\n",
            "           1       0.72      0.72      0.72      1189\n",
            "\n",
            "    accuracy                           0.67      2000\n",
            "   macro avg       0.65      0.65      0.65      2000\n",
            "weighted avg       0.66      0.67      0.66      2000\n",
            "\n",
            "RandomForestClassifier\n",
            "--------------------------------------------------\n",
            "0.757\n",
            "[[545 266]\n",
            " [220 969]]\n",
            "              precision    recall  f1-score   support\n",
            "\n",
            "           0       0.71      0.67      0.69       811\n",
            "           1       0.78      0.81      0.80      1189\n",
            "\n",
            "    accuracy                           0.76      2000\n",
            "   macro avg       0.75      0.74      0.75      2000\n",
            "weighted avg       0.76      0.76      0.76      2000\n",
            "\n",
            "SVM\n",
            "--------------------------------------------------\n",
            "0.768\n",
            "[[544 267]\n",
            " [197 992]]\n",
            "              precision    recall  f1-score   support\n",
            "\n",
            "           0       0.73      0.67      0.70       811\n",
            "           1       0.79      0.83      0.81      1189\n",
            "\n",
            "    accuracy                           0.77      2000\n",
            "   macro avg       0.76      0.75      0.76      2000\n",
            "weighted avg       0.77      0.77      0.77      2000\n",
            "\n"
          ]
        }
      ],
      "source": [
        "for key,value in models.items():\n",
        "    print(key)\n",
        "    print(\"-\"*50)\n",
        "    value.fit(x_train_w2v,y_train)\n",
        "    y_pred=value.predict(x_test_w2v)\n",
        "    print(accuracy_score(y_test,y_pred))\n",
        "    print(confusion_matrix(y_test,y_pred))\n",
        "    print(classification_report(y_test,y_pred))"
      ]
    },
    {
      "cell_type": "markdown",
      "id": "gZRUlIrH-FMe",
      "metadata": {
        "id": "gZRUlIrH-FMe"
      },
      "source": [
        "#### Svm with TF-IDF vectorizer perfoms well than other models with Bag of words and Wor2vec."
      ]
    },
    {
      "cell_type": "code",
      "execution_count": null,
      "id": "aeZqv5KC7lra",
      "metadata": {
        "colab": {
          "base_uri": "https://localhost:8080/",
          "height": 80
        },
        "id": "aeZqv5KC7lra",
        "outputId": "a3609b4b-173a-45d3-d75e-837be29c3f4e"
      },
      "outputs": [
        {
          "data": {
            "text/html": [
              "<style>#sk-container-id-1 {\n",
              "  /* Definition of color scheme common for light and dark mode */\n",
              "  --sklearn-color-text: #000;\n",
              "  --sklearn-color-text-muted: #666;\n",
              "  --sklearn-color-line: gray;\n",
              "  /* Definition of color scheme for unfitted estimators */\n",
              "  --sklearn-color-unfitted-level-0: #fff5e6;\n",
              "  --sklearn-color-unfitted-level-1: #f6e4d2;\n",
              "  --sklearn-color-unfitted-level-2: #ffe0b3;\n",
              "  --sklearn-color-unfitted-level-3: chocolate;\n",
              "  /* Definition of color scheme for fitted estimators */\n",
              "  --sklearn-color-fitted-level-0: #f0f8ff;\n",
              "  --sklearn-color-fitted-level-1: #d4ebff;\n",
              "  --sklearn-color-fitted-level-2: #b3dbfd;\n",
              "  --sklearn-color-fitted-level-3: cornflowerblue;\n",
              "\n",
              "  /* Specific color for light theme */\n",
              "  --sklearn-color-text-on-default-background: var(--sg-text-color, var(--theme-code-foreground, var(--jp-content-font-color1, black)));\n",
              "  --sklearn-color-background: var(--sg-background-color, var(--theme-background, var(--jp-layout-color0, white)));\n",
              "  --sklearn-color-border-box: var(--sg-text-color, var(--theme-code-foreground, var(--jp-content-font-color1, black)));\n",
              "  --sklearn-color-icon: #696969;\n",
              "\n",
              "  @media (prefers-color-scheme: dark) {\n",
              "    /* Redefinition of color scheme for dark theme */\n",
              "    --sklearn-color-text-on-default-background: var(--sg-text-color, var(--theme-code-foreground, var(--jp-content-font-color1, white)));\n",
              "    --sklearn-color-background: var(--sg-background-color, var(--theme-background, var(--jp-layout-color0, #111)));\n",
              "    --sklearn-color-border-box: var(--sg-text-color, var(--theme-code-foreground, var(--jp-content-font-color1, white)));\n",
              "    --sklearn-color-icon: #878787;\n",
              "  }\n",
              "}\n",
              "\n",
              "#sk-container-id-1 {\n",
              "  color: var(--sklearn-color-text);\n",
              "}\n",
              "\n",
              "#sk-container-id-1 pre {\n",
              "  padding: 0;\n",
              "}\n",
              "\n",
              "#sk-container-id-1 input.sk-hidden--visually {\n",
              "  border: 0;\n",
              "  clip: rect(1px 1px 1px 1px);\n",
              "  clip: rect(1px, 1px, 1px, 1px);\n",
              "  height: 1px;\n",
              "  margin: -1px;\n",
              "  overflow: hidden;\n",
              "  padding: 0;\n",
              "  position: absolute;\n",
              "  width: 1px;\n",
              "}\n",
              "\n",
              "#sk-container-id-1 div.sk-dashed-wrapped {\n",
              "  border: 1px dashed var(--sklearn-color-line);\n",
              "  margin: 0 0.4em 0.5em 0.4em;\n",
              "  box-sizing: border-box;\n",
              "  padding-bottom: 0.4em;\n",
              "  background-color: var(--sklearn-color-background);\n",
              "}\n",
              "\n",
              "#sk-container-id-1 div.sk-container {\n",
              "  /* jupyter's `normalize.less` sets `[hidden] { display: none; }`\n",
              "     but bootstrap.min.css set `[hidden] { display: none !important; }`\n",
              "     so we also need the `!important` here to be able to override the\n",
              "     default hidden behavior on the sphinx rendered scikit-learn.org.\n",
              "     See: https://github.com/scikit-learn/scikit-learn/issues/21755 */\n",
              "  display: inline-block !important;\n",
              "  position: relative;\n",
              "}\n",
              "\n",
              "#sk-container-id-1 div.sk-text-repr-fallback {\n",
              "  display: none;\n",
              "}\n",
              "\n",
              "div.sk-parallel-item,\n",
              "div.sk-serial,\n",
              "div.sk-item {\n",
              "  /* draw centered vertical line to link estimators */\n",
              "  background-image: linear-gradient(var(--sklearn-color-text-on-default-background), var(--sklearn-color-text-on-default-background));\n",
              "  background-size: 2px 100%;\n",
              "  background-repeat: no-repeat;\n",
              "  background-position: center center;\n",
              "}\n",
              "\n",
              "/* Parallel-specific style estimator block */\n",
              "\n",
              "#sk-container-id-1 div.sk-parallel-item::after {\n",
              "  content: \"\";\n",
              "  width: 100%;\n",
              "  border-bottom: 2px solid var(--sklearn-color-text-on-default-background);\n",
              "  flex-grow: 1;\n",
              "}\n",
              "\n",
              "#sk-container-id-1 div.sk-parallel {\n",
              "  display: flex;\n",
              "  align-items: stretch;\n",
              "  justify-content: center;\n",
              "  background-color: var(--sklearn-color-background);\n",
              "  position: relative;\n",
              "}\n",
              "\n",
              "#sk-container-id-1 div.sk-parallel-item {\n",
              "  display: flex;\n",
              "  flex-direction: column;\n",
              "}\n",
              "\n",
              "#sk-container-id-1 div.sk-parallel-item:first-child::after {\n",
              "  align-self: flex-end;\n",
              "  width: 50%;\n",
              "}\n",
              "\n",
              "#sk-container-id-1 div.sk-parallel-item:last-child::after {\n",
              "  align-self: flex-start;\n",
              "  width: 50%;\n",
              "}\n",
              "\n",
              "#sk-container-id-1 div.sk-parallel-item:only-child::after {\n",
              "  width: 0;\n",
              "}\n",
              "\n",
              "/* Serial-specific style estimator block */\n",
              "\n",
              "#sk-container-id-1 div.sk-serial {\n",
              "  display: flex;\n",
              "  flex-direction: column;\n",
              "  align-items: center;\n",
              "  background-color: var(--sklearn-color-background);\n",
              "  padding-right: 1em;\n",
              "  padding-left: 1em;\n",
              "}\n",
              "\n",
              "\n",
              "/* Toggleable style: style used for estimator/Pipeline/ColumnTransformer box that is\n",
              "clickable and can be expanded/collapsed.\n",
              "- Pipeline and ColumnTransformer use this feature and define the default style\n",
              "- Estimators will overwrite some part of the style using the `sk-estimator` class\n",
              "*/\n",
              "\n",
              "/* Pipeline and ColumnTransformer style (default) */\n",
              "\n",
              "#sk-container-id-1 div.sk-toggleable {\n",
              "  /* Default theme specific background. It is overwritten whether we have a\n",
              "  specific estimator or a Pipeline/ColumnTransformer */\n",
              "  background-color: var(--sklearn-color-background);\n",
              "}\n",
              "\n",
              "/* Toggleable label */\n",
              "#sk-container-id-1 label.sk-toggleable__label {\n",
              "  cursor: pointer;\n",
              "  display: flex;\n",
              "  width: 100%;\n",
              "  margin-bottom: 0;\n",
              "  padding: 0.5em;\n",
              "  box-sizing: border-box;\n",
              "  text-align: center;\n",
              "  align-items: start;\n",
              "  justify-content: space-between;\n",
              "  gap: 0.5em;\n",
              "}\n",
              "\n",
              "#sk-container-id-1 label.sk-toggleable__label .caption {\n",
              "  font-size: 0.6rem;\n",
              "  font-weight: lighter;\n",
              "  color: var(--sklearn-color-text-muted);\n",
              "}\n",
              "\n",
              "#sk-container-id-1 label.sk-toggleable__label-arrow:before {\n",
              "  /* Arrow on the left of the label */\n",
              "  content: \"▸\";\n",
              "  float: left;\n",
              "  margin-right: 0.25em;\n",
              "  color: var(--sklearn-color-icon);\n",
              "}\n",
              "\n",
              "#sk-container-id-1 label.sk-toggleable__label-arrow:hover:before {\n",
              "  color: var(--sklearn-color-text);\n",
              "}\n",
              "\n",
              "/* Toggleable content - dropdown */\n",
              "\n",
              "#sk-container-id-1 div.sk-toggleable__content {\n",
              "  max-height: 0;\n",
              "  max-width: 0;\n",
              "  overflow: hidden;\n",
              "  text-align: left;\n",
              "  /* unfitted */\n",
              "  background-color: var(--sklearn-color-unfitted-level-0);\n",
              "}\n",
              "\n",
              "#sk-container-id-1 div.sk-toggleable__content.fitted {\n",
              "  /* fitted */\n",
              "  background-color: var(--sklearn-color-fitted-level-0);\n",
              "}\n",
              "\n",
              "#sk-container-id-1 div.sk-toggleable__content pre {\n",
              "  margin: 0.2em;\n",
              "  border-radius: 0.25em;\n",
              "  color: var(--sklearn-color-text);\n",
              "  /* unfitted */\n",
              "  background-color: var(--sklearn-color-unfitted-level-0);\n",
              "}\n",
              "\n",
              "#sk-container-id-1 div.sk-toggleable__content.fitted pre {\n",
              "  /* unfitted */\n",
              "  background-color: var(--sklearn-color-fitted-level-0);\n",
              "}\n",
              "\n",
              "#sk-container-id-1 input.sk-toggleable__control:checked~div.sk-toggleable__content {\n",
              "  /* Expand drop-down */\n",
              "  max-height: 200px;\n",
              "  max-width: 100%;\n",
              "  overflow: auto;\n",
              "}\n",
              "\n",
              "#sk-container-id-1 input.sk-toggleable__control:checked~label.sk-toggleable__label-arrow:before {\n",
              "  content: \"▾\";\n",
              "}\n",
              "\n",
              "/* Pipeline/ColumnTransformer-specific style */\n",
              "\n",
              "#sk-container-id-1 div.sk-label input.sk-toggleable__control:checked~label.sk-toggleable__label {\n",
              "  color: var(--sklearn-color-text);\n",
              "  background-color: var(--sklearn-color-unfitted-level-2);\n",
              "}\n",
              "\n",
              "#sk-container-id-1 div.sk-label.fitted input.sk-toggleable__control:checked~label.sk-toggleable__label {\n",
              "  background-color: var(--sklearn-color-fitted-level-2);\n",
              "}\n",
              "\n",
              "/* Estimator-specific style */\n",
              "\n",
              "/* Colorize estimator box */\n",
              "#sk-container-id-1 div.sk-estimator input.sk-toggleable__control:checked~label.sk-toggleable__label {\n",
              "  /* unfitted */\n",
              "  background-color: var(--sklearn-color-unfitted-level-2);\n",
              "}\n",
              "\n",
              "#sk-container-id-1 div.sk-estimator.fitted input.sk-toggleable__control:checked~label.sk-toggleable__label {\n",
              "  /* fitted */\n",
              "  background-color: var(--sklearn-color-fitted-level-2);\n",
              "}\n",
              "\n",
              "#sk-container-id-1 div.sk-label label.sk-toggleable__label,\n",
              "#sk-container-id-1 div.sk-label label {\n",
              "  /* The background is the default theme color */\n",
              "  color: var(--sklearn-color-text-on-default-background);\n",
              "}\n",
              "\n",
              "/* On hover, darken the color of the background */\n",
              "#sk-container-id-1 div.sk-label:hover label.sk-toggleable__label {\n",
              "  color: var(--sklearn-color-text);\n",
              "  background-color: var(--sklearn-color-unfitted-level-2);\n",
              "}\n",
              "\n",
              "/* Label box, darken color on hover, fitted */\n",
              "#sk-container-id-1 div.sk-label.fitted:hover label.sk-toggleable__label.fitted {\n",
              "  color: var(--sklearn-color-text);\n",
              "  background-color: var(--sklearn-color-fitted-level-2);\n",
              "}\n",
              "\n",
              "/* Estimator label */\n",
              "\n",
              "#sk-container-id-1 div.sk-label label {\n",
              "  font-family: monospace;\n",
              "  font-weight: bold;\n",
              "  display: inline-block;\n",
              "  line-height: 1.2em;\n",
              "}\n",
              "\n",
              "#sk-container-id-1 div.sk-label-container {\n",
              "  text-align: center;\n",
              "}\n",
              "\n",
              "/* Estimator-specific */\n",
              "#sk-container-id-1 div.sk-estimator {\n",
              "  font-family: monospace;\n",
              "  border: 1px dotted var(--sklearn-color-border-box);\n",
              "  border-radius: 0.25em;\n",
              "  box-sizing: border-box;\n",
              "  margin-bottom: 0.5em;\n",
              "  /* unfitted */\n",
              "  background-color: var(--sklearn-color-unfitted-level-0);\n",
              "}\n",
              "\n",
              "#sk-container-id-1 div.sk-estimator.fitted {\n",
              "  /* fitted */\n",
              "  background-color: var(--sklearn-color-fitted-level-0);\n",
              "}\n",
              "\n",
              "/* on hover */\n",
              "#sk-container-id-1 div.sk-estimator:hover {\n",
              "  /* unfitted */\n",
              "  background-color: var(--sklearn-color-unfitted-level-2);\n",
              "}\n",
              "\n",
              "#sk-container-id-1 div.sk-estimator.fitted:hover {\n",
              "  /* fitted */\n",
              "  background-color: var(--sklearn-color-fitted-level-2);\n",
              "}\n",
              "\n",
              "/* Specification for estimator info (e.g. \"i\" and \"?\") */\n",
              "\n",
              "/* Common style for \"i\" and \"?\" */\n",
              "\n",
              ".sk-estimator-doc-link,\n",
              "a:link.sk-estimator-doc-link,\n",
              "a:visited.sk-estimator-doc-link {\n",
              "  float: right;\n",
              "  font-size: smaller;\n",
              "  line-height: 1em;\n",
              "  font-family: monospace;\n",
              "  background-color: var(--sklearn-color-background);\n",
              "  border-radius: 1em;\n",
              "  height: 1em;\n",
              "  width: 1em;\n",
              "  text-decoration: none !important;\n",
              "  margin-left: 0.5em;\n",
              "  text-align: center;\n",
              "  /* unfitted */\n",
              "  border: var(--sklearn-color-unfitted-level-1) 1pt solid;\n",
              "  color: var(--sklearn-color-unfitted-level-1);\n",
              "}\n",
              "\n",
              ".sk-estimator-doc-link.fitted,\n",
              "a:link.sk-estimator-doc-link.fitted,\n",
              "a:visited.sk-estimator-doc-link.fitted {\n",
              "  /* fitted */\n",
              "  border: var(--sklearn-color-fitted-level-1) 1pt solid;\n",
              "  color: var(--sklearn-color-fitted-level-1);\n",
              "}\n",
              "\n",
              "/* On hover */\n",
              "div.sk-estimator:hover .sk-estimator-doc-link:hover,\n",
              ".sk-estimator-doc-link:hover,\n",
              "div.sk-label-container:hover .sk-estimator-doc-link:hover,\n",
              ".sk-estimator-doc-link:hover {\n",
              "  /* unfitted */\n",
              "  background-color: var(--sklearn-color-unfitted-level-3);\n",
              "  color: var(--sklearn-color-background);\n",
              "  text-decoration: none;\n",
              "}\n",
              "\n",
              "div.sk-estimator.fitted:hover .sk-estimator-doc-link.fitted:hover,\n",
              ".sk-estimator-doc-link.fitted:hover,\n",
              "div.sk-label-container:hover .sk-estimator-doc-link.fitted:hover,\n",
              ".sk-estimator-doc-link.fitted:hover {\n",
              "  /* fitted */\n",
              "  background-color: var(--sklearn-color-fitted-level-3);\n",
              "  color: var(--sklearn-color-background);\n",
              "  text-decoration: none;\n",
              "}\n",
              "\n",
              "/* Span, style for the box shown on hovering the info icon */\n",
              ".sk-estimator-doc-link span {\n",
              "  display: none;\n",
              "  z-index: 9999;\n",
              "  position: relative;\n",
              "  font-weight: normal;\n",
              "  right: .2ex;\n",
              "  padding: .5ex;\n",
              "  margin: .5ex;\n",
              "  width: min-content;\n",
              "  min-width: 20ex;\n",
              "  max-width: 50ex;\n",
              "  color: var(--sklearn-color-text);\n",
              "  box-shadow: 2pt 2pt 4pt #999;\n",
              "  /* unfitted */\n",
              "  background: var(--sklearn-color-unfitted-level-0);\n",
              "  border: .5pt solid var(--sklearn-color-unfitted-level-3);\n",
              "}\n",
              "\n",
              ".sk-estimator-doc-link.fitted span {\n",
              "  /* fitted */\n",
              "  background: var(--sklearn-color-fitted-level-0);\n",
              "  border: var(--sklearn-color-fitted-level-3);\n",
              "}\n",
              "\n",
              ".sk-estimator-doc-link:hover span {\n",
              "  display: block;\n",
              "}\n",
              "\n",
              "/* \"?\"-specific style due to the `<a>` HTML tag */\n",
              "\n",
              "#sk-container-id-1 a.estimator_doc_link {\n",
              "  float: right;\n",
              "  font-size: 1rem;\n",
              "  line-height: 1em;\n",
              "  font-family: monospace;\n",
              "  background-color: var(--sklearn-color-background);\n",
              "  border-radius: 1rem;\n",
              "  height: 1rem;\n",
              "  width: 1rem;\n",
              "  text-decoration: none;\n",
              "  /* unfitted */\n",
              "  color: var(--sklearn-color-unfitted-level-1);\n",
              "  border: var(--sklearn-color-unfitted-level-1) 1pt solid;\n",
              "}\n",
              "\n",
              "#sk-container-id-1 a.estimator_doc_link.fitted {\n",
              "  /* fitted */\n",
              "  border: var(--sklearn-color-fitted-level-1) 1pt solid;\n",
              "  color: var(--sklearn-color-fitted-level-1);\n",
              "}\n",
              "\n",
              "/* On hover */\n",
              "#sk-container-id-1 a.estimator_doc_link:hover {\n",
              "  /* unfitted */\n",
              "  background-color: var(--sklearn-color-unfitted-level-3);\n",
              "  color: var(--sklearn-color-background);\n",
              "  text-decoration: none;\n",
              "}\n",
              "\n",
              "#sk-container-id-1 a.estimator_doc_link.fitted:hover {\n",
              "  /* fitted */\n",
              "  background-color: var(--sklearn-color-fitted-level-3);\n",
              "}\n",
              "</style><div id=\"sk-container-id-1\" class=\"sk-top-container\"><div class=\"sk-text-repr-fallback\"><pre>SVC()</pre><b>In a Jupyter environment, please rerun this cell to show the HTML representation or trust the notebook. <br />On GitHub, the HTML representation is unable to render, please try loading this page with nbviewer.org.</b></div><div class=\"sk-container\" hidden><div class=\"sk-item\"><div class=\"sk-estimator fitted sk-toggleable\"><input class=\"sk-toggleable__control sk-hidden--visually\" id=\"sk-estimator-id-1\" type=\"checkbox\" checked><label for=\"sk-estimator-id-1\" class=\"sk-toggleable__label fitted sk-toggleable__label-arrow\"><div><div>SVC</div></div><div><a class=\"sk-estimator-doc-link fitted\" rel=\"noreferrer\" target=\"_blank\" href=\"https://scikit-learn.org/1.6/modules/generated/sklearn.svm.SVC.html\">?<span>Documentation for SVC</span></a><span class=\"sk-estimator-doc-link fitted\">i<span>Fitted</span></span></div></label><div class=\"sk-toggleable__content fitted\"><pre>SVC()</pre></div> </div></div></div></div>"
            ],
            "text/plain": [
              "SVC()"
            ]
          },
          "execution_count": 32,
          "metadata": {},
          "output_type": "execute_result"
        }
      ],
      "source": [
        "svm=SVC()\n",
        "svm.fit(x_train_tfidf,y_train)"
      ]
    },
    {
      "cell_type": "code",
      "execution_count": null,
      "id": "xOYW0sf0DOVF",
      "metadata": {
        "colab": {
          "base_uri": "https://localhost:8080/"
        },
        "id": "xOYW0sf0DOVF",
        "outputId": "aa48f832-2d02-4a42-94a0-1b19dfeb1fb7"
      },
      "outputs": [
        {
          "data": {
            "text/plain": [
              "['logistic_model.pkl']"
            ]
          },
          "execution_count": 34,
          "metadata": {},
          "output_type": "execute_result"
        }
      ],
      "source": [
        "logistic=LogisticRegression()\n",
        "logistic.fit(x_train_tfidf,y_train)\n",
        "joblib.dump(logistic,\"logistic_model.pkl\")"
      ]
    },
    {
      "cell_type": "code",
      "execution_count": null,
      "id": "Gu1Lxa8XIn2B",
      "metadata": {
        "colab": {
          "base_uri": "https://localhost:8080/"
        },
        "id": "Gu1Lxa8XIn2B",
        "outputId": "2c658c10-885d-4d36-b6f7-4677c7b3a732"
      },
      "outputs": [
        {
          "name": "stdout",
          "output_type": "stream",
          "text": [
            "Models and vectorizers saved successfully!\n"
          ]
        }
      ],
      "source": [
        "import joblib\n",
        "import pickle\n",
        "\n",
        "\n",
        "# Save Bag of Words vectorizer\n",
        "joblib.dump(vecotrizer, 'vectorizer_bow.pkl')\n",
        "\n",
        "# Save TF-IDF vectorizer\n",
        "joblib.dump(tfidf, 'vectorizer_tfidf.pkl')\n",
        "\n",
        "# Save Word2Vec vectorizer (if applicable)\n",
        "with open('vectorizer_word2vec.pkl', 'wb') as f:\n",
        "    pickle.dump(word2vec, f)\n",
        "\n",
        "# Save the trained SVM model\n",
        "joblib.dump(svm, 'svm_model.pkl')\n",
        "\n",
        "print(\"Models and vectorizers saved successfully!\")\n"
      ]
    },
    {
      "cell_type": "markdown",
      "id": "5Bl4Hy3Z-qNP",
      "metadata": {
        "id": "5Bl4Hy3Z-qNP"
      },
      "source": [
        "### Conclusion\n",
        "- The dataset contains 12,000 datapoints.\n",
        "- Reduce the datapoints by convert the rating (0 to 5) into \"Positive\" review and \"Negative\" Review by removing the rating 3.\n",
        "- Below 3 rating consider as \"Negative\" and Above 3 rating consider as \"Positive\".\n",
        "- All the Review text are preprocessed and Convert them into vectors.\n",
        "- Convert the text with Bag of words, TF-IDF and Word2Vec.\n",
        "- TF-IDF vectorizer performs well with SVM model with accuracy 89%."
      ]
    },
    {
      "cell_type": "code",
      "execution_count": null,
      "id": "MjaJgQIu_lWY",
      "metadata": {
        "id": "MjaJgQIu_lWY"
      },
      "outputs": [],
      "source": []
    }
  ],
  "metadata": {
    "accelerator": "GPU",
    "colab": {
      "gpuType": "T4",
      "provenance": []
    },
    "kernelspec": {
      "display_name": "Python 3",
      "name": "python3"
    },
    "language_info": {
      "codemirror_mode": {
        "name": "ipython",
        "version": 3
      },
      "file_extension": ".py",
      "mimetype": "text/x-python",
      "name": "python",
      "nbconvert_exporter": "python",
      "pygments_lexer": "ipython3",
      "version": "3.10.12"
    }
  },
  "nbformat": 4,
  "nbformat_minor": 5
}
